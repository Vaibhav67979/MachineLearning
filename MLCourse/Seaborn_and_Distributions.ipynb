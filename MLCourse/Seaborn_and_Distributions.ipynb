{
  "nbformat": 4,
  "nbformat_minor": 0,
  "metadata": {
    "colab": {
      "provenance": [],
      "authorship_tag": "ABX9TyNaarqJaHyWncpwUsFjD0lI",
      "include_colab_link": true
    },
    "kernelspec": {
      "name": "python3",
      "display_name": "Python 3"
    },
    "language_info": {
      "name": "python"
    }
  },
  "cells": [
    {
      "cell_type": "markdown",
      "metadata": {
        "id": "view-in-github",
        "colab_type": "text"
      },
      "source": [
        "<a href=\"https://colab.research.google.com/github/Vaibhav67979/MachineLearning/blob/main/MLCourse/Seaborn_and_Distributions.ipynb\" target=\"_parent\"><img src=\"https://colab.research.google.com/assets/colab-badge.svg\" alt=\"Open In Colab\"/></a>"
      ]
    },
    {
      "cell_type": "markdown",
      "source": [
        "# **Distribution**\n",
        "\n",
        "Data distribution - list of all possible values, and how often each value occur"
      ],
      "metadata": {
        "id": "zxMCgTEhmsKi"
      }
    },
    {
      "cell_type": "code",
      "execution_count": 1,
      "metadata": {
        "colab": {
          "base_uri": "https://localhost:8080/"
        },
        "id": "VLxO9C0Pml_-",
        "outputId": "9b9bbd22-77cb-4737-c925-7f2fa636ed45"
      },
      "outputs": [
        {
          "output_type": "stream",
          "name": "stdout",
          "text": [
            "[7 7 9 9 9 7 7 7 5 7 5 3 5 9 7 7 5 7 5 7 7 7 5 7 7 9 3 9 5 5 5 5 5 7 5 7 7\n",
            " 5 5 7 5 5 5 7 5 5 7 7 3 7 3 7 5 5 3 5 9 3 5 9 5 7 7 7 7 5 7 5 7 5 3 3 7 5\n",
            " 3 7 9 9 7 5 7 5 9 3 9 7 5 5 7 9 5 7 7 5 7 3 5 5 7 3]\n"
          ]
        },
        {
          "output_type": "execute_result",
          "data": {
            "text/plain": [
              "12"
            ]
          },
          "metadata": {},
          "execution_count": 1
        }
      ],
      "source": [
        "import numpy as np\n",
        "x = np.random.choice([3, 5, 7, 9], p=[0.1, 0.3, 0.5, 0.1], size=(100))\n",
        "\n",
        "print(x)\n",
        "cc = 0\n",
        "for a in x:\n",
        "  if a == 3:\n",
        "    cc += 1\n",
        "cc"
      ]
    },
    {
      "cell_type": "markdown",
      "source": [
        "# Seaborn\n",
        "\n",
        "Seaborn is a library that uses Matplotlib underneath to plot graphs. It will be used to visualize random distributions."
      ],
      "metadata": {
        "id": "WOebjkpCnKXU"
      }
    },
    {
      "cell_type": "markdown",
      "source": [
        "## Importing seaborn"
      ],
      "metadata": {
        "id": "V4_IOn6ynWSp"
      }
    },
    {
      "cell_type": "code",
      "source": [
        "import matplotlib.pyplot as plt\n",
        "import seaborn as sns"
      ],
      "metadata": {
        "id": "ZPkVPy1XneMt"
      },
      "execution_count": 2,
      "outputs": []
    },
    {
      "cell_type": "markdown",
      "source": [
        "## Using seaborn"
      ],
      "metadata": {
        "id": "oPJOX5A9nixr"
      }
    },
    {
      "cell_type": "code",
      "source": [
        "sns.displot([0,1,2,3,4,5])\n",
        "# sns.histplot([0,1,2,3,4,5])\n",
        "#plt.show()"
      ],
      "metadata": {
        "colab": {
          "base_uri": "https://localhost:8080/",
          "height": 386
        },
        "id": "OHCIQ3Kfnk5f",
        "outputId": "0dd09c69-0b91-4e93-c57c-bf633ddec827"
      },
      "execution_count": 3,
      "outputs": [
        {
          "output_type": "execute_result",
          "data": {
            "text/plain": [
              "<seaborn.axisgrid.FacetGrid at 0x7f9cae08af70>"
            ]
          },
          "metadata": {},
          "execution_count": 3
        },
        {
          "output_type": "display_data",
          "data": {
            "text/plain": [
              "<Figure size 360x360 with 1 Axes>"
            ],
            "image/png": "[encoded data removed]"
          },
          "metadata": {
            "needs_background": "light"
          }
        }
      ]
    },
    {
      "cell_type": "code",
      "source": [
        "sns.distplot([0,1,2,3,4,5])"
      ],
      "metadata": {
        "colab": {
          "base_uri": "https://localhost:8080/",
          "height": 337
        },
        "id": "_jKUd9I9noWc",
        "outputId": "c220130a-c3b0-4276-ee10-46efbff396b3"
      },
      "execution_count": 4,
      "outputs": [
        {
          "output_type": "stream",
          "name": "stderr",
          "text": [
            "/usr/local/lib/python3.8/dist-packages/seaborn/distributions.py:2619: FutureWarning: `distplot` is a deprecated function and will be removed in a future version. Please adapt your code to use either `displot` (a figure-level function with similar flexibility) or `histplot` (an axes-level function for histograms).\n",
            "  warnings.warn(msg, FutureWarning)\n"
          ]
        },
        {
          "output_type": "execute_result",
          "data": {
            "text/plain": [
              "<matplotlib.axes._subplots.AxesSubplot at 0x7f9c972bd940>"
            ]
          },
          "metadata": {},
          "execution_count": 4
        },
        {
          "output_type": "display_data",
          "data": {
            "text/plain": [
              "<Figure size 432x288 with 1 Axes>"
            ],
            "image/png": "[encoded data removed]"
          },
          "metadata": {
            "needs_background": "light"
          }
        }
      ]
    },
    {
      "cell_type": "code",
      "source": [
        "sns.distplot([0,1,2,3,4,5], hist=False)"
      ],
      "metadata": {
        "id": "DsZnxMIbnt9y"
      },
      "execution_count": null,
      "outputs": []
    },
    {
      "cell_type": "markdown",
      "source": [
        "# Normal Distribution"
      ],
      "metadata": {
        "id": "BJaZl_PgnxMM"
      }
    },
    {
      "cell_type": "code",
      "source": [
        "x = np.random.normal(size=(2, 3))\n",
        "\n",
        "print(x)\n",
        "\n",
        "# sns.distplot(x)\n",
        "sns.histplot(x)"
      ],
      "metadata": {
        "colab": {
          "base_uri": "https://localhost:8080/",
          "height": 317
        },
        "id": "OqJx_s_an1d7",
        "outputId": "3021fe7f-b7b8-4923-f138-3033c65d8b5a"
      },
      "execution_count": 5,
      "outputs": [
        {
          "output_type": "stream",
          "name": "stdout",
          "text": [
            "[[ 1.96350705  0.12753057  1.32557915]\n",
            " [-0.40070135  1.74875598  2.05659899]]\n"
          ]
        },
        {
          "output_type": "execute_result",
          "data": {
            "text/plain": [
              "<matplotlib.axes._subplots.AxesSubplot at 0x7f9c94c3e3d0>"
            ]
          },
          "metadata": {},
          "execution_count": 5
        },
        {
          "output_type": "display_data",
          "data": {
            "text/plain": [
              "<Figure size 432x288 with 1 Axes>"
            ],
            "image/png": "[encoded data removed]"
          },
          "metadata": {
            "needs_background": "light"
          }
        }
      ]
    },
    {
      "cell_type": "code",
      "source": [
        "sns.displot(x)"
      ],
      "metadata": {
        "colab": {
          "base_uri": "https://localhost:8080/",
          "height": 386
        },
        "id": "AuBhtBb_n5YQ",
        "outputId": "abdcfe68-a7b2-4b2b-909a-53d5eb28e060"
      },
      "execution_count": 6,
      "outputs": [
        {
          "output_type": "execute_result",
          "data": {
            "text/plain": [
              "<seaborn.axisgrid.FacetGrid at 0x7f9c97314ee0>"
            ]
          },
          "metadata": {},
          "execution_count": 6
        },
        {
          "output_type": "display_data",
          "data": {
            "text/plain": [
              "<Figure size 402.375x360 with 1 Axes>"
            ],
            "image/png": "[encoded data removed]"
          },
          "metadata": {
            "needs_background": "light"
          }
        }
      ]
    },
    {
      "cell_type": "code",
      "source": [
        "sns.distplot(np.random.normal(size = 1000))"
      ],
      "metadata": {
        "colab": {
          "base_uri": "https://localhost:8080/",
          "height": 337
        },
        "id": "wtATb1_4oBr9",
        "outputId": "a51cafe5-f950-48f5-a2e8-0afe063d144f"
      },
      "execution_count": 7,
      "outputs": [
        {
          "output_type": "stream",
          "name": "stderr",
          "text": [
            "/usr/local/lib/python3.8/dist-packages/seaborn/distributions.py:2619: FutureWarning: `distplot` is a deprecated function and will be removed in a future version. Please adapt your code to use either `displot` (a figure-level function with similar flexibility) or `histplot` (an axes-level function for histograms).\n",
            "  warnings.warn(msg, FutureWarning)\n"
          ]
        },
        {
          "output_type": "execute_result",
          "data": {
            "text/plain": [
              "<matplotlib.axes._subplots.AxesSubplot at 0x7f9c94b45370>"
            ]
          },
          "metadata": {},
          "execution_count": 7
        },
        {
          "output_type": "display_data",
          "data": {
            "text/plain": [
              "<Figure size 432x288 with 1 Axes>"
            ],
            "image/png": "[encoded data removed]"
          },
          "metadata": {
            "needs_background": "light"
          }
        }
      ]
    },
    {
      "cell_type": "code",
      "source": [
        "sns.displot(np.random.normal(size = 1000))"
      ],
      "metadata": {
        "colab": {
          "base_uri": "https://localhost:8080/",
          "height": 386
        },
        "id": "DeTshakuoE_F",
        "outputId": "1ea11236-f729-42e0-cba1-8c94bf6e1dd6"
      },
      "execution_count": 8,
      "outputs": [
        {
          "output_type": "execute_result",
          "data": {
            "text/plain": [
              "<seaborn.axisgrid.FacetGrid at 0x7f9c94b7bbe0>"
            ]
          },
          "metadata": {},
          "execution_count": 8
        },
        {
          "output_type": "display_data",
          "data": {
            "text/plain": [
              "<Figure size 360x360 with 1 Axes>"
            ],
            "image/png": "[encoded data removed]"
          },
          "metadata": {
            "needs_background": "light"
          }
        }
      ]
    },
    {
      "cell_type": "markdown",
      "source": [
        "# Binomial Distribution\n",
        "\n",
        "Is a discrete distribution.\n",
        "\n",
        "Describes outcomes of binary scenarios, ex = toss of a coin, etc\n",
        "\n",
        "three parameters:\n",
        "\n",
        "- n = number of trials\n",
        "- p = probability of occurences of each trial\n",
        "- size = the shape of the returned array"
      ],
      "metadata": {
        "id": "C0Xu97juoHD-"
      }
    },
    {
      "cell_type": "code",
      "source": [
        "x = np.random.binomial(n=10, p=0.5, size=1000)\n",
        "print(x)\n",
        "sns.distplot(x , hist=True)"
      ],
      "metadata": {
        "colab": {
          "base_uri": "https://localhost:8080/",
          "height": 1000
        },
        "id": "0jXpi0H4oNqy",
        "outputId": "879220c1-14fd-44b5-ad0e-7f9dbf409b67"
      },
      "execution_count": 9,
      "outputs": [
        {
          "output_type": "stream",
          "name": "stdout",
          "text": [
            "[ 6  8  3  6  5  4  8  5  6  5  4  6  5  4  2  7  4  4  6  6  5  6  3  5\n",
            "  5  6  5  5  3  4  8  3  7  6  4  2  4  7  5  7  7  6  5  3  5  5  4  4\n",
            "  7  4  5  8  6  5  6  3  8  8  6  6  4  5  6  6  3  7  5  6  8  2  4  6\n",
            "  3  6  5  5  7  8  3  6  6  6  5  2  4  2  7  6  5  5  4  7  5  3  5  6\n",
            "  6  5  6  6  4  7  5  4  5  4  7  5  5  6  4  3  4  3  4  3  4  4  7  7\n",
            "  4  3  5  5  5  4  5  4  5  4  4  4  7  5  5  4  2  3  5  6  4  4  8  3\n",
            "  4  5  7  6  2  5  5  6  4  3  5  7  6  4  6  3  8  5  5  5  7  3  5  7\n",
            "  6  8  5  6  7  3  6  4  4  4  8  4  4  6  2  4  4  5  4  8  5  6  3  5\n",
            "  4  6  6  5  7  3  8  5  4  5  4  4  7  3  7  4  8  3  6  5  4  2  5  7\n",
            "  2  4  6  6  4 10  4  6  5  8  4  6  2  4  4  5  3  2  4  6  5  7  7  4\n",
            "  5  4  8  6  6  6  6  3  6  8  7  5  5  4  4  4  5  7  7  5  4  5  6  4\n",
            "  6  6  5  4  5  6  8  4  6  7  5  5  3  7  7  4  6  6  5  3  5  3  4  7\n",
            "  4  5  6  2  4  5  7  4  5  5  6  6  7  4  5  3  5  6  4  3  5  3  5  7\n",
            "  5  3  6  5  4  6  4  3  4  9  4  5  8  7  5  5  3  6  8  7  5  8  3  5\n",
            "  5  4  9  5  7  5  6  3  5  4  5  7  3  3  4  3  3  7  5  4  5  6  6  4\n",
            "  3  5  6  6  6  7  4  5  8  5  5  5  5  6  5  4  7  7  2  4  6  3  6  5\n",
            "  6  1  3  4  2  4  5  5  5  6  7  4  8  6  5  5  6  3  5  5  4  4  8  3\n",
            "  5  7  5  5  4  3  4  5  4  4  4  6  2  6  6  3  6  6  2  3  5  5  7  3\n",
            "  6  3  6  2  5  5  3  7  4  6  5  6  7  4  4  5  5  5  6  5  3  7  5  4\n",
            "  4  7  8  7  4  5  5  6  5  3  3  4  7  5  3  5  8  9  5  5  4  5  7  4\n",
            "  5  8  5  6  5  7  5  6  6  5  7  6  4  9  6  3  6  5  6  8  6  5  3  5\n",
            "  3  8  7  4  5  4  5  4  6  6  4  5  6  5  7  3  5  6  6  7  6  4  3  7\n",
            "  6  4  4  6  6  3  3  5  7  7  7  5  4  4  6  5  5  3  3  8  6  6  5  3\n",
            "  6  8  5  6  5  6  4  5  5  6  6  6  4  4  4  7  7  3  5  7  5  5  4  5\n",
            "  7  4  7  7  5  6  7  6  6  8  4  5  5  3  5  6  3  5  7  4  4  3  5  5\n",
            "  5  7  6  3  8  3  2  6  3  3  5  6  6  4  8  5  3  3  3  4  4  4  6  3\n",
            "  4  4  7  2  5  3  3  5  6  5  6  5  4  2  5  6  7  6  5  5  5  4  7  4\n",
            "  4  9  8  3  6  3  4  5  4  6  6  7  4  4  6  4  5  7  6  7  6  5  5  5\n",
            "  8  7  6  3  5  6  8  8  7  5  7  5  7  4  5  5  7  3  8  3  4  6  6  8\n",
            "  9  6  2  7  6  6  4  5  4  4  6  7  4  5  7  4  5  2  3  7  3  2  4  4\n",
            "  6  4  5  4  4  2  3  7  9  7  7  5  4  4  5  6  5  4  7  8  6  7  5  5\n",
            "  8  6  3  4  4  4  6  3  6  6  7  6  6  4  5  5  6  4  6  4  6  3  6  6\n",
            "  7  5  3  5  6  4  4  4  5  3  6  1  5  5  5  5  6  7  1  5  6  5  5  3\n",
            "  5  5  5  6  2  5  5  5  5  6  6  3  6  4  6  5  6  5  3  8  3  4  7  3\n",
            "  6  1  7  3  4  5  4  4  6  1  5  4  7  3  7  5  4  9  5  3  4  3  7  8\n",
            "  3  4  2  6  3  2  2  6  3  7  5  3  4  5  5  4  4  5  6  4  4  5  5  6\n",
            "  6  7  4  4  6  6  7  6  6  4  6  8  6  6  2  4  4  5  3  7  3  4  4  5\n",
            "  8  4  1  2  4  4  7  3  5  7  6  7  2  4  5  3  5  6  6  2  6  7  3  4\n",
            "  6  5  5  6  5  5  5  5  8  6  5  5  4  2  7  7  5  7  5  7  5  4  1  4\n",
            "  5  8  4  5  4  6  4  3  7  6  6  3  7  3  4  8  5  5  5  7  7  5  4  3\n",
            "  5  7  6  7  3  5  6  7  6  6  6  4  4  3  6  4  7  3  4  2  8  5  3  5\n",
            "  4  6  7  4  5  8  5  5  4  4  4  5  5  6  5  6]\n"
          ]
        },
        {
          "output_type": "stream",
          "name": "stderr",
          "text": [
            "/usr/local/lib/python3.8/dist-packages/seaborn/distributions.py:2619: FutureWarning: `distplot` is a deprecated function and will be removed in a future version. Please adapt your code to use either `displot` (a figure-level function with similar flexibility) or `histplot` (an axes-level function for histograms).\n",
            "  warnings.warn(msg, FutureWarning)\n"
          ]
        },
        {
          "output_type": "execute_result",
          "data": {
            "text/plain": [
              "<matplotlib.axes._subplots.AxesSubplot at 0x7f9c9499f0d0>"
            ]
          },
          "metadata": {},
          "execution_count": 9
        },
        {
          "output_type": "display_data",
          "data": {
            "text/plain": [
              "<Figure size 432x288 with 1 Axes>"
            ],
            "image/png": "[encoded data removed]"
          },
          "metadata": {
            "needs_background": "light"
          }
        }
      ]
    },
    {
      "cell_type": "markdown",
      "source": [
        "The more we increase the size it'll tend closer towards normal distribution"
      ],
      "metadata": {
        "id": "zi556LSToTnw"
      }
    },
    {
      "cell_type": "code",
      "source": [
        "sns.distplot(np.random.normal(loc=50, scale=5, size=10000), hist=False, label='normal')\n",
        "sns.distplot(np.random.binomial(n=100, p=0.5, size=10000), hist=False, label='binomial')"
      ],
      "metadata": {
        "colab": {
          "base_uri": "https://localhost:8080/",
          "height": 372
        },
        "id": "nHJHCcV1oUXc",
        "outputId": "88033574-2957-408f-e29f-1f720996f564"
      },
      "execution_count": 10,
      "outputs": [
        {
          "output_type": "stream",
          "name": "stderr",
          "text": [
            "/usr/local/lib/python3.8/dist-packages/seaborn/distributions.py:2619: FutureWarning: `distplot` is a deprecated function and will be removed in a future version. Please adapt your code to use either `displot` (a figure-level function with similar flexibility) or `kdeplot` (an axes-level function for kernel density plots).\n",
            "  warnings.warn(msg, FutureWarning)\n",
            "/usr/local/lib/python3.8/dist-packages/seaborn/distributions.py:2619: FutureWarning: `distplot` is a deprecated function and will be removed in a future version. Please adapt your code to use either `displot` (a figure-level function with similar flexibility) or `kdeplot` (an axes-level function for kernel density plots).\n",
            "  warnings.warn(msg, FutureWarning)\n"
          ]
        },
        {
          "output_type": "execute_result",
          "data": {
            "text/plain": [
              "<matplotlib.axes._subplots.AxesSubplot at 0x7f9c949b4a60>"
            ]
          },
          "metadata": {},
          "execution_count": 10
        },
        {
          "output_type": "display_data",
          "data": {
            "text/plain": [
              "<Figure size 432x288 with 1 Axes>"
            ],
            "image/png": "[encoded data removed]"
          },
          "metadata": {
            "needs_background": "light"
          }
        }
      ]
    }
  ]
}