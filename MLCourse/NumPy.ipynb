{
  "nbformat": 4,
  "nbformat_minor": 0,
  "metadata": {
    "colab": {
      "provenance": [],
      "collapsed_sections": [
        "LVmezOVxkUdl",
        "nEpZats_no8f",
        "n5WTqNa9oBIk",
        "JA4jRZEzodMx"
      ],
      "authorship_tag": "ABX9TyOMDjZ5n8vxWYaNekmq7eZX",
      "include_colab_link": true
    },
    "kernelspec": {
      "name": "python3",
      "display_name": "Python 3"
    },
    "language_info": {
      "name": "python"
    }
  },
  "cells": [
    {
      "cell_type": "markdown",
      "metadata": {
        "id": "view-in-github",
        "colab_type": "text"
      },
      "source": [
        "<a href=\"https://colab.research.google.com/github/Vaibhav67979/MachineLearning/blob/main/MLCourse/NumPy.ipynb\" target=\"_parent\"><img src=\"https://colab.research.google.com/assets/colab-badge.svg\" alt=\"Open In Colab\"/></a>"
      ]
    },
    {
      "cell_type": "markdown",
      "source": [
        "# NumPy \n",
        "\n",
        "NumPy package is an ndarray object.\n",
        "This encapsulates n-dimensional arrays of homogenous data types.\n",
        "- Numpy arrays are of fixed size. \n",
        "- Changing the size of of an ndarrray will create a new array and delete the old one.\n",
        "- All elements pf the numpy array should be of a same data type.\n",
        "\n",
        "NumPy arrays are faster and more compact than Python lists. An array consumes less memory and is convenient to use.\n",
        "\n",
        "Numpy is faster because of vectorization.\n",
        "- vectorized code is more concise and easier to read\n",
        "- fewer lines of code generally means fewer bugs\n",
        "- the code more closely resembles standard mathematical notation\n"
      ],
      "metadata": {
        "id": "C0roj0PshBPa"
      }
    },
    {
      "cell_type": "markdown",
      "source": [
        "## Installation \n"
      ],
      "metadata": {
        "id": "LVmezOVxkUdl"
      }
    },
    {
      "cell_type": "code",
      "source": [
        "pip install numpy\n",
        "\"\"\" or \"\"\"\n",
        "conda install numpy\n",
        "\"\"\" if on jupyter notebook use an exclamation mark \"\"\"\n",
        "!pip install numpy"
      ],
      "metadata": {
        "id": "kXSHdZ4Vkbdi"
      },
      "execution_count": null,
      "outputs": []
    },
    {
      "cell_type": "markdown",
      "source": [
        "## Importing NumPy"
      ],
      "metadata": {
        "id": "nEpZats_no8f"
      }
    },
    {
      "cell_type": "code",
      "source": [
        "import numpy as np"
      ],
      "metadata": {
        "id": "PLK5VL07nvTN"
      },
      "execution_count": null,
      "outputs": []
    },
    {
      "cell_type": "markdown",
      "source": [
        "## Creating an array\n"
      ],
      "metadata": {
        "id": "n5WTqNa9oBIk"
      }
    },
    {
      "cell_type": "code",
      "source": [
        "a = np.array([1,2,3,4])\n",
        "print(a)"
      ],
      "metadata": {
        "colab": {
          "base_uri": "https://localhost:8080/"
        },
        "id": "kCpzK3YNoNOv",
        "outputId": "ab0889ce-8e2e-4495-da0c-45270a442bd7"
      },
      "execution_count": null,
      "outputs": [
        {
          "output_type": "stream",
          "name": "stdout",
          "text": [
            "[1 2 3 4]\n"
          ]
        }
      ]
    },
    {
      "cell_type": "code",
      "source": [
        "a = np.arange(20).reshape(4,5)\n",
        "a"
      ],
      "metadata": {
        "colab": {
          "base_uri": "https://localhost:8080/"
        },
        "id": "lnlUGTPPomjD",
        "outputId": "a6369759-6c58-42ff-dafb-24a7414a1fcc"
      },
      "execution_count": null,
      "outputs": [
        {
          "output_type": "execute_result",
          "data": {
            "text/plain": [
              "array([[ 0,  1,  2,  3,  4],\n",
              "       [ 5,  6,  7,  8,  9],\n",
              "       [10, 11, 12, 13, 14],\n",
              "       [15, 16, 17, 18, 19]])"
            ]
          },
          "metadata": {},
          "execution_count": 9
        }
      ]
    },
    {
      "cell_type": "markdown",
      "source": [
        "## Basic functions"
      ],
      "metadata": {
        "id": "JA4jRZEzodMx"
      }
    },
    {
      "cell_type": "code",
      "source": [
        "a.shape"
      ],
      "metadata": {
        "colab": {
          "base_uri": "https://localhost:8080/"
        },
        "id": "j8XJ-2oGpHux",
        "outputId": "09ed1d79-f79c-4cff-ce3f-4d67e7dcd0b1"
      },
      "execution_count": null,
      "outputs": [
        {
          "output_type": "execute_result",
          "data": {
            "text/plain": [
              "(4, 5)"
            ]
          },
          "metadata": {},
          "execution_count": 12
        }
      ]
    },
    {
      "cell_type": "code",
      "source": [
        "a.size"
      ],
      "metadata": {
        "colab": {
          "base_uri": "https://localhost:8080/"
        },
        "id": "grsRLUbYpQh5",
        "outputId": "0b329501-ae13-462a-9123-9c98a5582d18"
      },
      "execution_count": null,
      "outputs": [
        {
          "output_type": "execute_result",
          "data": {
            "text/plain": [
              "20"
            ]
          },
          "metadata": {},
          "execution_count": 13
        }
      ]
    },
    {
      "cell_type": "code",
      "source": [
        "a.dtype"
      ],
      "metadata": {
        "colab": {
          "base_uri": "https://localhost:8080/"
        },
        "id": "rPv2ovsVpUmE",
        "outputId": "afdfaf67-3c2a-4c90-cec9-a6a1e7e025f3"
      },
      "execution_count": null,
      "outputs": [
        {
          "output_type": "execute_result",
          "data": {
            "text/plain": [
              "dtype('int64')"
            ]
          },
          "metadata": {},
          "execution_count": 14
        }
      ]
    },
    {
      "cell_type": "code",
      "source": [
        "a.itemsize"
      ],
      "metadata": {
        "colab": {
          "base_uri": "https://localhost:8080/"
        },
        "id": "1mvF5yfhpcEK",
        "outputId": "2c6edc85-563e-4ce9-cbc8-c912fea0bd9b"
      },
      "execution_count": null,
      "outputs": [
        {
          "output_type": "execute_result",
          "data": {
            "text/plain": [
              "8"
            ]
          },
          "metadata": {},
          "execution_count": 15
        }
      ]
    },
    {
      "cell_type": "code",
      "source": [
        "a.data"
      ],
      "metadata": {
        "colab": {
          "base_uri": "https://localhost:8080/"
        },
        "id": "2QziY5tLpj5r",
        "outputId": "6298246f-d37b-47c5-ba5e-2264c397d639"
      },
      "execution_count": null,
      "outputs": [
        {
          "output_type": "execute_result",
          "data": {
            "text/plain": [
              "<memory at 0x7f0a79482a00>"
            ]
          },
          "metadata": {},
          "execution_count": 16
        }
      ]
    },
    {
      "cell_type": "code",
      "source": [
        "b = np.array([2,3,4,True,\"Hello\",2.3444])\n",
        "b.dtype"
      ],
      "metadata": {
        "colab": {
          "base_uri": "https://localhost:8080/"
        },
        "id": "Y5E2PgIGptsn",
        "outputId": "8d516857-e067-4e6f-cded-e0a4f3869d59"
      },
      "execution_count": null,
      "outputs": [
        {
          "output_type": "execute_result",
          "data": {
            "text/plain": [
              "dtype('<U32')"
            ]
          },
          "metadata": {},
          "execution_count": 25
        }
      ]
    },
    {
      "cell_type": "code",
      "source": [
        "c = np.array([(1,2,3),(4,5,6)])\n",
        "c"
      ],
      "metadata": {
        "colab": {
          "base_uri": "https://localhost:8080/"
        },
        "id": "9u9cN1FMqe_z",
        "outputId": "f783a842-501d-4d96-ebac-ff712c98b2f4"
      },
      "execution_count": null,
      "outputs": [
        {
          "output_type": "execute_result",
          "data": {
            "text/plain": [
              "array([[1, 2, 3],\n",
              "       [4, 5, 6]])"
            ]
          },
          "metadata": {},
          "execution_count": 52
        }
      ]
    },
    {
      "cell_type": "code",
      "source": [
        "d = np.array([[1,2],[3,4]],dtype = complex)\n",
        "d"
      ],
      "metadata": {
        "colab": {
          "base_uri": "https://localhost:8080/"
        },
        "id": "8UJjv-7CrAuA",
        "outputId": "9b33abd3-0268-43b0-c8eb-49815f4455eb"
      },
      "execution_count": null,
      "outputs": [
        {
          "output_type": "execute_result",
          "data": {
            "text/plain": [
              "array([[1.+0.j, 2.+0.j],\n",
              "       [3.+0.j, 4.+0.j]])"
            ]
          },
          "metadata": {},
          "execution_count": 33
        }
      ]
    },
    {
      "cell_type": "code",
      "source": [
        "np.zeros((3,4))"
      ],
      "metadata": {
        "colab": {
          "base_uri": "https://localhost:8080/"
        },
        "id": "QtAO40KerU7N",
        "outputId": "2d733a66-4e7e-4071-cfdf-b3246457d1c8"
      },
      "execution_count": null,
      "outputs": [
        {
          "output_type": "execute_result",
          "data": {
            "text/plain": [
              "array([[0., 0., 0., 0.],\n",
              "       [0., 0., 0., 0.],\n",
              "       [0., 0., 0., 0.]])"
            ]
          },
          "metadata": {},
          "execution_count": 37
        }
      ]
    },
    {
      "cell_type": "code",
      "source": [
        "np.ones((2,3,4))"
      ],
      "metadata": {
        "colab": {
          "base_uri": "https://localhost:8080/"
        },
        "id": "1eZA1UPBrk_l",
        "outputId": "3546beda-63d8-4404-f752-b78b0fac327c"
      },
      "execution_count": null,
      "outputs": [
        {
          "output_type": "execute_result",
          "data": {
            "text/plain": [
              "array([[[1., 1., 1., 1.],\n",
              "        [1., 1., 1., 1.],\n",
              "        [1., 1., 1., 1.]],\n",
              "\n",
              "       [[1., 1., 1., 1.],\n",
              "        [1., 1., 1., 1.],\n",
              "        [1., 1., 1., 1.]]])"
            ]
          },
          "metadata": {},
          "execution_count": 41
        }
      ]
    },
    {
      "cell_type": "code",
      "source": [
        "np.ones((1,2,3,4,5),dtype= int)"
      ],
      "metadata": {
        "colab": {
          "base_uri": "https://localhost:8080/"
        },
        "id": "LC-wBy8zr65b",
        "outputId": "43576f10-c2d7-4d36-88c2-0c25ce759980"
      },
      "execution_count": null,
      "outputs": [
        {
          "output_type": "execute_result",
          "data": {
            "text/plain": [
              "array([[[[[1, 1, 1, 1, 1],\n",
              "          [1, 1, 1, 1, 1],\n",
              "          [1, 1, 1, 1, 1],\n",
              "          [1, 1, 1, 1, 1]],\n",
              "\n",
              "         [[1, 1, 1, 1, 1],\n",
              "          [1, 1, 1, 1, 1],\n",
              "          [1, 1, 1, 1, 1],\n",
              "          [1, 1, 1, 1, 1]],\n",
              "\n",
              "         [[1, 1, 1, 1, 1],\n",
              "          [1, 1, 1, 1, 1],\n",
              "          [1, 1, 1, 1, 1],\n",
              "          [1, 1, 1, 1, 1]]],\n",
              "\n",
              "\n",
              "        [[[1, 1, 1, 1, 1],\n",
              "          [1, 1, 1, 1, 1],\n",
              "          [1, 1, 1, 1, 1],\n",
              "          [1, 1, 1, 1, 1]],\n",
              "\n",
              "         [[1, 1, 1, 1, 1],\n",
              "          [1, 1, 1, 1, 1],\n",
              "          [1, 1, 1, 1, 1],\n",
              "          [1, 1, 1, 1, 1]],\n",
              "\n",
              "         [[1, 1, 1, 1, 1],\n",
              "          [1, 1, 1, 1, 1],\n",
              "          [1, 1, 1, 1, 1],\n",
              "          [1, 1, 1, 1, 1]]]]])"
            ]
          },
          "metadata": {},
          "execution_count": 44
        }
      ]
    },
    {
      "cell_type": "code",
      "source": [
        "np.empty((2,3))"
      ],
      "metadata": {
        "colab": {
          "base_uri": "https://localhost:8080/"
        },
        "id": "RYnDfwXrswpe",
        "outputId": "b94f9e35-768f-4018-a608-598210eeb2ad"
      },
      "execution_count": null,
      "outputs": [
        {
          "output_type": "execute_result",
          "data": {
            "text/plain": [
              "array([[1.5, 2. , 3. ],\n",
              "       [4. , 5. , 6. ]])"
            ]
          },
          "metadata": {},
          "execution_count": 54
        }
      ]
    },
    {
      "cell_type": "code",
      "source": [
        "np.arange(0,2,0.3)\n"
      ],
      "metadata": {
        "colab": {
          "base_uri": "https://localhost:8080/"
        },
        "id": "PyfA4ktitUlA",
        "outputId": "798f49a9-56b1-4dff-fd5b-bd6676d72afe"
      },
      "execution_count": null,
      "outputs": [
        {
          "output_type": "execute_result",
          "data": {
            "text/plain": [
              "array([0. , 0.3, 0.6, 0.9, 1.2, 1.5, 1.8])"
            ]
          },
          "metadata": {},
          "execution_count": 58
        }
      ]
    },
    {
      "cell_type": "code",
      "source": [
        "np.arange(1000000000,9000000000000,885452888987)"
      ],
      "metadata": {
        "colab": {
          "base_uri": "https://localhost:8080/"
        },
        "id": "IHyXbc4BtnZ4",
        "outputId": "0ddc3836-42dc-49e9-ac60-94827f968146"
      },
      "execution_count": null,
      "outputs": [
        {
          "output_type": "execute_result",
          "data": {
            "text/plain": [
              "array([   1000000000,  886452888987, 1771905777974, 2657358666961,\n",
              "       3542811555948, 4428264444935, 5313717333922, 6199170222909,\n",
              "       7084623111896, 7970076000883, 8855528889870])"
            ]
          },
          "metadata": {},
          "execution_count": 60
        }
      ]
    },
    {
      "cell_type": "code",
      "source": [
        "np.linspace(0,2,10)# last argument in the number of elements we want"
      ],
      "metadata": {
        "colab": {
          "base_uri": "https://localhost:8080/"
        },
        "id": "-cllVqy_tw76",
        "outputId": "4b2d98a0-0637-4972-bd66-e75203c690aa"
      },
      "execution_count": null,
      "outputs": [
        {
          "output_type": "execute_result",
          "data": {
            "text/plain": [
              "array([0.        , 0.22222222, 0.44444444, 0.66666667, 0.88888889,\n",
              "       1.11111111, 1.33333333, 1.55555556, 1.77777778, 2.        ])"
            ]
          },
          "metadata": {},
          "execution_count": 61
        }
      ]
    },
    {
      "cell_type": "markdown",
      "source": [
        "## Arithmetic operations"
      ],
      "metadata": {
        "id": "cmuhN2c5ulXy"
      }
    },
    {
      "cell_type": "code",
      "source": [
        "a = np.linspace(2,18,9).reshape(3,3)\n",
        "print(a)\n",
        "b = np.linspace(3,27,9).reshape(3,3)\n",
        "print(b)\n",
        "print(a+b)\n",
        "print(a*b) # element wise product\n",
        "print(a/b)\n",
        "print(a-b)\n",
        "print(a%b)\n",
        "\n",
        "# matrix product or dot product\n",
        "\n",
        "print(a@b) \n",
        "a.dot(b)"
      ],
      "metadata": {
        "colab": {
          "base_uri": "https://localhost:8080/"
        },
        "id": "OuKMepIHu2m6",
        "outputId": "01166243-bf8d-49d9-85c5-1c9a045f77ab"
      },
      "execution_count": null,
      "outputs": [
        {
          "output_type": "stream",
          "name": "stdout",
          "text": [
            "[[ 2.  4.  6.]\n",
            " [ 8. 10. 12.]\n",
            " [14. 16. 18.]]\n",
            "[[ 3.  6.  9.]\n",
            " [12. 15. 18.]\n",
            " [21. 24. 27.]]\n",
            "[[ 5. 10. 15.]\n",
            " [20. 25. 30.]\n",
            " [35. 40. 45.]]\n",
            "[[  6.  24.  54.]\n",
            " [ 96. 150. 216.]\n",
            " [294. 384. 486.]]\n",
            "[[0.66666667 0.66666667 0.66666667]\n",
            " [0.66666667 0.66666667 0.66666667]\n",
            " [0.66666667 0.66666667 0.66666667]]\n",
            "[[-1. -2. -3.]\n",
            " [-4. -5. -6.]\n",
            " [-7. -8. -9.]]\n",
            "[[ 2.  4.  6.]\n",
            " [ 8. 10. 12.]\n",
            " [14. 16. 18.]]\n",
            "[[180. 216. 252.]\n",
            " [396. 486. 576.]\n",
            " [612. 756. 900.]]\n"
          ]
        },
        {
          "output_type": "execute_result",
          "data": {
            "text/plain": [
              "array([[180., 216., 252.],\n",
              "       [396., 486., 576.],\n",
              "       [612., 756., 900.]])"
            ]
          },
          "metadata": {},
          "execution_count": 82
        }
      ]
    },
    {
      "cell_type": "code",
      "source": [
        "10*np.sin(a)"
      ],
      "metadata": {
        "colab": {
          "base_uri": "https://localhost:8080/"
        },
        "id": "D-0mj4_IxbCP",
        "outputId": "475e7e44-c6ce-48c6-be91-a71b728ae019"
      },
      "execution_count": null,
      "outputs": [
        {
          "output_type": "execute_result",
          "data": {
            "text/plain": [
              "array([[ 9.09297427, -7.56802495, -2.79415498],\n",
              "       [ 9.89358247, -5.44021111, -5.36572918],\n",
              "       [ 9.90607356, -2.87903317, -7.50987247]])"
            ]
          },
          "metadata": {},
          "execution_count": 79
        }
      ]
    },
    {
      "cell_type": "code",
      "source": [
        "a<3"
      ],
      "metadata": {
        "colab": {
          "base_uri": "https://localhost:8080/"
        },
        "id": "yiHJd7yuxf58",
        "outputId": "1759591d-02bc-4659-a913-c26d4ad35022"
      },
      "execution_count": null,
      "outputs": [
        {
          "output_type": "execute_result",
          "data": {
            "text/plain": [
              "array([[ True, False, False],\n",
              "       [False, False, False],\n",
              "       [False, False, False]])"
            ]
          },
          "metadata": {},
          "execution_count": 80
        }
      ]
    },
    {
      "cell_type": "code",
      "source": [
        "rg = np.random.default_rng(1)\n",
        "a = np.ones((2,3),dtype = int)\n",
        "print(a)\n",
        "b = rg.random((2,3))\n",
        "print(b)\n",
        "# a *= 3\n",
        "# print(a)\n",
        "# # b += a # each element of matrix b is added with each element of matrix a\n",
        "# # print(b)\n",
        "# b *= a # each element of matrix b is getting multiplied by each element of matrix a\n",
        "# print(b)"
      ],
      "metadata": {
        "colab": {
          "base_uri": "https://localhost:8080/"
        },
        "id": "hwVWyB30y3YH",
        "outputId": "7c04da41-4935-43a9-8fb4-5a2a2b6fbb3d"
      },
      "execution_count": null,
      "outputs": [
        {
          "output_type": "stream",
          "name": "stdout",
          "text": [
            "[[1 1 1]\n",
            " [1 1 1]]\n",
            "[[0.51182162 0.9504637  0.14415961]\n",
            " [0.94864945 0.31183145 0.42332645]]\n",
            "[[3 3 3]\n",
            " [3 3 3]]\n",
            "[[1.53546487 2.85139109 0.43247884]\n",
            " [2.84594834 0.93549436 1.26997935]]\n"
          ]
        }
      ]
    },
    {
      "cell_type": "markdown",
      "source": [
        "### random number generator"
      ],
      "metadata": {
        "id": "KG1WQOEb0_Jb"
      }
    },
    {
      "cell_type": "code",
      "source": [
        "\"\"\" Random number generator between 0 - 100 \"\"\"\n",
        "c = rg.random((2,3))\n",
        "print(c)\n",
        "\n",
        "c = c*50 + 50\n",
        "print(c)\n",
        "\n",
        "\"\"\" or \"\"\"\n",
        "# print(50 + c*50)\n",
        "\n"
      ],
      "metadata": {
        "colab": {
          "base_uri": "https://localhost:8080/",
          "height": 108
        },
        "id": "I2Hub-Us0JlL",
        "outputId": "22affecf-c7f4-4926-f22d-746cba1f6ed3"
      },
      "execution_count": null,
      "outputs": [
        {
          "output_type": "stream",
          "name": "stdout",
          "text": [
            "[[0.84558557 0.27327852 0.28590552]\n",
            " [0.2016326  0.76513804 0.1435602 ]]\n",
            "[[92.27927858 63.66392585 64.29527579]\n",
            " [60.08162996 88.25690203 57.1780102 ]]\n"
          ]
        },
        {
          "output_type": "execute_result",
          "data": {
            "text/plain": [
              "' or '"
            ],
            "application/vnd.google.colaboratory.intrinsic+json": {
              "type": "string"
            }
          },
          "metadata": {},
          "execution_count": 118
        }
      ]
    },
    {
      "cell_type": "code",
      "source": [
        "c.sum()"
      ],
      "metadata": {
        "colab": {
          "base_uri": "https://localhost:8080/"
        },
        "id": "07S3X15011Z1",
        "outputId": "fa3fbaff-dec9-4354-c4a9-6277ef677da4"
      },
      "execution_count": null,
      "outputs": [
        {
          "output_type": "execute_result",
          "data": {
            "text/plain": [
              "505.2066783968192"
            ]
          },
          "metadata": {},
          "execution_count": 111
        }
      ]
    },
    {
      "cell_type": "code",
      "source": [
        "c.min()"
      ],
      "metadata": {
        "colab": {
          "base_uri": "https://localhost:8080/"
        },
        "id": "hXx8HOtm2BM-",
        "outputId": "73ba3bbc-eb83-4cd9-89bd-15d53805a001"
      },
      "execution_count": null,
      "outputs": [
        {
          "output_type": "execute_result",
          "data": {
            "text/plain": [
              "62.76415994804137"
            ]
          },
          "metadata": {},
          "execution_count": 112
        }
      ]
    },
    {
      "cell_type": "code",
      "source": [
        "c.max()"
      ],
      "metadata": {
        "colab": {
          "base_uri": "https://localhost:8080/"
        },
        "id": "ZvIFDTVk2zwE",
        "outputId": "3b92423f-6a63-4e05-eda4-cdf1db13fa0f"
      },
      "execution_count": null,
      "outputs": [
        {
          "output_type": "execute_result",
          "data": {
            "text/plain": [
              "97.2951791890383"
            ]
          },
          "metadata": {},
          "execution_count": 117
        }
      ]
    },
    {
      "cell_type": "code",
      "source": [
        "d = rg.random((30,30))\n",
        "d = d*50 + 50\n",
        "d = d.astype(int)\n",
        "d"
      ],
      "metadata": {
        "colab": {
          "base_uri": "https://localhost:8080/"
        },
        "id": "Ft_Tonbj1KYM",
        "outputId": "518b3fff-4061-431b-e90d-689f5dce672e"
      },
      "execution_count": null,
      "outputs": [
        {
          "output_type": "execute_result",
          "data": {
            "text/plain": [
              "array([[67, 80, 95, 95, 92, 82, 80, 85, 70, 87, 51, 96, 85, 50, 85, 78,\n",
              "        80, 82, 56, 52, 60, 54, 60, 86, 66, 78, 62, 93, 53, 77],\n",
              "       [77, 89, 94, 87, 55, 88, 73, 62, 88, 89, 74, 91, 91, 88, 84, 78,\n",
              "        75, 73, 69, 65, 59, 55, 56, 95, 95, 73, 96, 91, 73, 97],\n",
              "       [66, 79, 98, 61, 91, 68, 68, 91, 65, 69, 72, 63, 50, 99, 50, 73,\n",
              "        78, 75, 70, 51, 82, 52, 67, 54, 73, 98, 61, 74, 75, 99],\n",
              "       [90, 76, 73, 98, 99, 93, 89, 91, 99, 89, 53, 52, 95, 92, 79, 91,\n",
              "        97, 77, 90, 74, 68, 69, 61, 56, 97, 60, 94, 59, 58, 70],\n",
              "       [89, 61, 52, 96, 97, 70, 74, 85, 86, 82, 82, 76, 64, 61, 89, 80,\n",
              "        84, 62, 99, 81, 50, 81, 59, 66, 70, 52, 51, 73, 86, 75],\n",
              "       [59, 52, 80, 80, 58, 77, 86, 99, 93, 55, 53, 64, 90, 95, 97, 60,\n",
              "        76, 60, 72, 87, 92, 72, 78, 79, 97, 64, 87, 85, 74, 55],\n",
              "       [87, 94, 80, 69, 95, 65, 99, 94, 70, 50, 76, 50, 74, 82, 92, 50,\n",
              "        67, 68, 79, 64, 85, 80, 71, 73, 50, 59, 99, 66, 67, 75],\n",
              "       [85, 97, 56, 79, 66, 54, 67, 82, 59, 79, 95, 68, 85, 88, 74, 97,\n",
              "        61, 88, 99, 61, 82, 75, 69, 75, 72, 83, 97, 69, 50, 91],\n",
              "       [84, 70, 51, 96, 80, 76, 87, 78, 96, 91, 59, 55, 94, 96, 77, 68,\n",
              "        87, 86, 94, 97, 84, 75, 69, 83, 73, 56, 97, 50, 98, 98],\n",
              "       [80, 73, 56, 91, 90, 52, 86, 52, 75, 67, 67, 86, 62, 55, 51, 89,\n",
              "        86, 63, 67, 83, 53, 90, 77, 72, 50, 94, 55, 90, 85, 84],\n",
              "       [69, 73, 86, 90, 56, 94, 73, 80, 84, 77, 64, 78, 71, 71, 80, 95,\n",
              "        58, 54, 71, 72, 86, 70, 75, 70, 52, 74, 96, 73, 85, 66],\n",
              "       [50, 97, 85, 56, 98, 93, 58, 82, 88, 68, 70, 96, 81, 91, 97, 89,\n",
              "        78, 71, 92, 62, 50, 94, 51, 98, 53, 50, 58, 90, 88, 54],\n",
              "       [87, 61, 90, 59, 65, 53, 97, 54, 84, 88, 71, 86, 85, 85, 67, 71,\n",
              "        59, 63, 63, 58, 85, 73, 97, 75, 89, 84, 68, 68, 51, 80],\n",
              "       [70, 57, 53, 97, 54, 58, 99, 98, 96, 71, 64, 62, 99, 78, 66, 85,\n",
              "        88, 54, 80, 99, 75, 52, 86, 79, 61, 60, 70, 61, 90, 50],\n",
              "       [66, 69, 79, 94, 87, 52, 90, 81, 96, 76, 58, 60, 97, 52, 56, 86,\n",
              "        99, 50, 81, 90, 79, 76, 87, 62, 66, 90, 72, 62, 88, 51],\n",
              "       [70, 62, 89, 71, 87, 75, 71, 94, 65, 85, 80, 78, 68, 63, 63, 51,\n",
              "        90, 56, 89, 99, 50, 68, 58, 70, 64, 57, 55, 58, 88, 87],\n",
              "       [95, 50, 81, 74, 65, 86, 76, 60, 79, 85, 97, 69, 80, 89, 90, 63,\n",
              "        59, 53, 76, 88, 60, 51, 61, 67, 77, 52, 88, 58, 99, 52],\n",
              "       [90, 93, 50, 61, 85, 99, 80, 94, 83, 76, 85, 83, 62, 67, 93, 62,\n",
              "        60, 77, 90, 68, 60, 99, 65, 58, 77, 64, 57, 84, 89, 92],\n",
              "       [65, 55, 94, 88, 74, 52, 63, 91, 73, 51, 74, 63, 71, 65, 57, 60,\n",
              "        69, 69, 91, 77, 79, 83, 66, 73, 65, 69, 71, 65, 79, 89],\n",
              "       [67, 54, 58, 94, 94, 73, 56, 89, 80, 84, 80, 73, 86, 99, 98, 56,\n",
              "        51, 57, 60, 96, 68, 79, 98, 78, 66, 90, 70, 57, 86, 86],\n",
              "       [71, 76, 85, 90, 66, 97, 95, 86, 63, 53, 69, 84, 54, 88, 77, 85,\n",
              "        78, 66, 91, 59, 58, 93, 87, 94, 85, 51, 80, 55, 66, 57],\n",
              "       [83, 89, 62, 61, 68, 82, 86, 61, 56, 64, 65, 98, 81, 64, 92, 86,\n",
              "        84, 83, 81, 54, 73, 67, 54, 84, 99, 87, 82, 91, 56, 71],\n",
              "       [53, 60, 61, 51, 64, 50, 63, 86, 96, 96, 76, 92, 72, 77, 97, 60,\n",
              "        55, 74, 91, 73, 53, 58, 75, 58, 52, 68, 60, 98, 70, 70],\n",
              "       [64, 54, 87, 75, 99, 97, 62, 99, 88, 97, 59, 97, 56, 60, 52, 95,\n",
              "        76, 59, 85, 63, 60, 51, 80, 85, 66, 50, 66, 77, 87, 89],\n",
              "       [85, 58, 73, 74, 86, 80, 74, 77, 51, 71, 89, 85, 59, 59, 88, 73,\n",
              "        64, 71, 86, 84, 83, 93, 84, 94, 84, 51, 73, 88, 91, 60],\n",
              "       [52, 85, 84, 54, 93, 69, 78, 56, 83, 84, 72, 76, 79, 84, 72, 58,\n",
              "        85, 82, 73, 57, 56, 76, 59, 51, 65, 71, 90, 72, 61, 61],\n",
              "       [62, 89, 96, 79, 75, 61, 91, 78, 55, 79, 70, 73, 67, 59, 85, 99,\n",
              "        51, 80, 72, 81, 84, 50, 92, 59, 90, 94, 94, 84, 84, 99],\n",
              "       [51, 92, 80, 97, 95, 54, 79, 72, 63, 58, 54, 55, 73, 61, 59, 87,\n",
              "        51, 97, 63, 50, 58, 78, 89, 73, 86, 96, 78, 84, 75, 50],\n",
              "       [89, 73, 56, 88, 54, 79, 82, 76, 50, 96, 59, 78, 92, 67, 72, 81,\n",
              "        84, 69, 86, 68, 66, 81, 59, 86, 52, 50, 58, 83, 76, 69],\n",
              "       [55, 97, 60, 73, 60, 73, 68, 67, 72, 55, 60, 55, 59, 75, 64, 98,\n",
              "        58, 78, 96, 83, 60, 99, 57, 77, 94, 76, 97, 89, 81, 79]])"
            ]
          },
          "metadata": {},
          "execution_count": 116
        }
      ]
    },
    {
      "cell_type": "markdown",
      "source": [
        "100 digit random prime integer"
      ],
      "metadata": {
        "id": "-o4o97PzsWUZ"
      }
    },
    {
      "cell_type": "code",
      "source": [
        "import random\n",
        "\n",
        "def is_prime(n, k=10):\n",
        "    # Implement the Miller-Rabin primality test\n",
        "    if n == 2 or n == 3:\n",
        "        return True\n",
        "    if n <= 1 or n % 2 == 0:\n",
        "        return False\n",
        "\n",
        "    r, d = 0, n - 1\n",
        "    while d % 2 == 0:\n",
        "        r += 1\n",
        "        d //= 2\n",
        "\n",
        "    for _ in range(k):\n",
        "        a = random.randint(2, n - 2)\n",
        "        x = pow(a, d, n)\n",
        "        if x == 1 or x == n - 1:\n",
        "            continue\n",
        "\n",
        "        for _ in range(r - 1):\n",
        "            x = pow(x, 2, n)\n",
        "            if x == n - 1:\n",
        "                break\n",
        "        else:\n",
        "            return False\n",
        "\n",
        "    return True\n",
        "\n",
        "# Generate a random 100-digit number\n",
        "n = random.randint(10**99, 10**100)\n",
        "\n",
        "# Keep generating random numbers until we find a prime\n",
        "while not is_prime(n):\n",
        "    n = random.randint(10**99, 10**100)\n",
        "\n",
        "print(n)\n",
        "\n"
      ],
      "metadata": {
        "id": "VQVVWKM_2iNI",
        "colab": {
          "base_uri": "https://localhost:8080/"
        },
        "outputId": "42a9049e-2469-460b-82aa-ea0343b987d4"
      },
      "execution_count": null,
      "outputs": [
        {
          "output_type": "stream",
          "name": "stdout",
          "text": [
            "5598185678216414715196631843330798250850675046784244185404291092251678598026499191193687452321974303\n"
          ]
        }
      ]
    },
    {
      "cell_type": "markdown",
      "source": [
        "100 digit random number generator"
      ],
      "metadata": {
        "id": "q57hMa_aseLk"
      }
    },
    {
      "cell_type": "code",
      "source": [
        "import numpy as np\n",
        "\n",
        "# Generate a random float between 0 and 1\n",
        "rand_float = np.random.random_sample()\n",
        "\n",
        "# Convert the float to an integer and store it as a string\n",
        "rand_int_str = str(int(rand_float * 10**100))\n",
        "\n",
        "# Extract the first 100 digits of the string\n",
        "rand_100_digits = rand_int_str[:100]\n",
        "\n",
        "print(rand_100_digits)"
      ],
      "metadata": {
        "colab": {
          "base_uri": "https://localhost:8080/"
        },
        "id": "7K4HAwN_rkIh",
        "outputId": "5866b7d7-51e0-4f74-959d-3135e02107e8"
      },
      "execution_count": null,
      "outputs": [
        {
          "output_type": "stream",
          "name": "stdout",
          "text": [
            "6806048056300127911285449220497065586255547316019301664343041066411402542233759910392718042920386560\n"
          ]
        }
      ]
    },
    {
      "cell_type": "code",
      "source": [
        "N = np.random.rand()\n",
        "\n",
        "n = int(N * 10**100)\n",
        "\n",
        "print(n)"
      ],
      "metadata": {
        "colab": {
          "base_uri": "https://localhost:8080/"
        },
        "id": "c-wuVZiZsi6h",
        "outputId": "7ca61de1-408a-4264-c37b-76468a135c1d"
      },
      "execution_count": null,
      "outputs": [
        {
          "output_type": "stream",
          "name": "stdout",
          "text": [
            "9421499406106715404775065174453639182010125691832630918973760963429730613784600126095889855351357440\n"
          ]
        }
      ]
    },
    {
      "cell_type": "markdown",
      "source": [
        "## Random Numbers\n",
        "\n",
        "- Pseudo random numbers (from code)\n",
        "- True random numbers (from real life) (ex : data from a sensor)"
      ],
      "metadata": {
        "id": "2q7bHevUuGal"
      }
    },
    {
      "cell_type": "markdown",
      "source": [
        "### Random float between 0 to 1\n",
        "\n",
        "multiply to set the lower range \n",
        "add to modify the upper range"
      ],
      "metadata": {
        "id": "oWwL00awypn7"
      }
    },
    {
      "cell_type": "code",
      "source": [
        "x = np.random.random()\n",
        "print(x)\n",
        "y = np.random.rand()\n",
        "print(y)"
      ],
      "metadata": {
        "colab": {
          "base_uri": "https://localhost:8080/"
        },
        "id": "T0zX9ioFyvoY",
        "outputId": "c0bc4e0f-3269-4457-d213-a52b53b0f6a7"
      },
      "execution_count": null,
      "outputs": [
        {
          "output_type": "stream",
          "name": "stdout",
          "text": [
            "0.6353369951848805\n",
            "0.8160379437699341\n"
          ]
        }
      ]
    },
    {
      "cell_type": "markdown",
      "source": [
        "### random integer between a given range"
      ],
      "metadata": {
        "id": "V7iLSqI5zI5t"
      }
    },
    {
      "cell_type": "code",
      "source": [
        "x = np.random.randint(0,10)\n",
        "print(x)"
      ],
      "metadata": {
        "colab": {
          "base_uri": "https://localhost:8080/"
        },
        "id": "RhqPnkOPzOOi",
        "outputId": "3340291d-5a3e-4fe0-f5b9-63b7cbc34260"
      },
      "execution_count": null,
      "outputs": [
        {
          "output_type": "stream",
          "name": "stdout",
          "text": [
            "3\n"
          ]
        }
      ]
    },
    {
      "cell_type": "markdown",
      "source": [
        "### Generate random integer between 0 to 100"
      ],
      "metadata": {
        "id": "7T7nRzPku0Se"
      }
    },
    {
      "cell_type": "code",
      "source": [
        "x = np.random.randint(100)\n",
        "x"
      ],
      "metadata": {
        "colab": {
          "base_uri": "https://localhost:8080/"
        },
        "id": "hkkJflxyyAMC",
        "outputId": "465c915c-46f9-4254-b9bc-febcfb48d993"
      },
      "execution_count": null,
      "outputs": [
        {
          "output_type": "execute_result",
          "data": {
            "text/plain": [
              "44"
            ]
          },
          "metadata": {},
          "execution_count": 114
        }
      ]
    },
    {
      "cell_type": "markdown",
      "source": [
        "### 100 random numbers between 0 to 1"
      ],
      "metadata": {
        "id": "EGHXLaXDyRSC"
      }
    },
    {
      "cell_type": "code",
      "source": [
        "x = np.random.rand(100)\n",
        "x"
      ],
      "metadata": {
        "colab": {
          "base_uri": "https://localhost:8080/"
        },
        "id": "5f3skEIcyLHb",
        "outputId": "cc56073e-6a54-4bc4-c7eb-9a877e2d00d0"
      },
      "execution_count": null,
      "outputs": [
        {
          "output_type": "execute_result",
          "data": {
            "text/plain": [
              "array([0.78377729, 0.05147445, 0.93654025, 0.98464109, 0.5450338 ,\n",
              "       0.42189474, 0.5356724 , 0.57013285, 0.04079467, 0.95661357,\n",
              "       0.46689647, 0.57641068, 0.13517709, 0.18763361, 0.34835707,\n",
              "       0.89731195, 0.56983651, 0.88388981, 0.19630523, 0.25170131,\n",
              "       0.40955292, 0.08063449, 0.61331152, 0.43945272, 0.72310979,\n",
              "       0.24507005, 0.99225467, 0.05559236, 0.29915885, 0.7977789 ,\n",
              "       0.68969573, 0.93186897, 0.67146007, 0.4427951 , 0.86485997,\n",
              "       0.62594034, 0.905644  , 0.23433043, 0.08421963, 0.36266149,\n",
              "       0.65456886, 0.80272147, 0.70049888, 0.84256992, 0.28018083,\n",
              "       0.50814257, 0.78658847, 0.75452645, 0.07747894, 0.71490215,\n",
              "       0.60978769, 0.81702668, 0.68518073, 0.73784116, 0.67998538,\n",
              "       0.60924069, 0.22399359, 0.61258432, 0.58813288, 0.31413506,\n",
              "       0.36610206, 0.60049027, 0.49253956, 0.06147094, 0.1358661 ,\n",
              "       0.49333399, 0.93846989, 0.61167366, 0.7136913 , 0.87586467,\n",
              "       0.78018598, 0.50552029, 0.74944342, 0.47923271, 0.52030517,\n",
              "       0.98756769, 0.43626165, 0.35620287, 0.88372559, 0.19122271,\n",
              "       0.4913045 , 0.35746908, 0.18974863, 0.37081746, 0.20394925,\n",
              "       0.062168  , 0.38366823, 0.34772083, 0.51549986, 0.10370483,\n",
              "       0.13747458, 0.84551794, 0.85459631, 0.93181246, 0.91210038,\n",
              "       0.88325919, 0.00100024, 0.92435367, 0.87104713, 0.38176661])"
            ]
          },
          "metadata": {},
          "execution_count": 115
        }
      ]
    },
    {
      "cell_type": "markdown",
      "source": [
        "### Random choice"
      ],
      "metadata": {
        "id": "IpN_LkX-yZDk"
      }
    },
    {
      "cell_type": "code",
      "source": [
        "x = np.random.choice([3,5,6,7,8])\n",
        "x"
      ],
      "metadata": {
        "colab": {
          "base_uri": "https://localhost:8080/"
        },
        "id": "6_Vc-r5E0Aw8",
        "outputId": "7993b2a1-f2a2-438c-f932-8a6aaeb41b43"
      },
      "execution_count": null,
      "outputs": [
        {
          "output_type": "execute_result",
          "data": {
            "text/plain": [
              "6"
            ]
          },
          "metadata": {},
          "execution_count": 121
        }
      ]
    },
    {
      "cell_type": "code",
      "source": [
        "b = ['hi', 'hello', 'hola', 'ni hao', 'namaste']\n",
        "x = np.random.choice(b)\n",
        "x"
      ],
      "metadata": {
        "colab": {
          "base_uri": "https://localhost:8080/"
        },
        "id": "nISZSZFA0Hd2",
        "outputId": "cb143937-f458-4bcf-c575-03814d1115ab"
      },
      "execution_count": null,
      "outputs": [
        {
          "output_type": "execute_result",
          "data": {
            "text/plain": [
              "'hello'"
            ],
            "application/vnd.google.colaboratory.intrinsic+json": {
              "type": "string"
            }
          },
          "metadata": {},
          "execution_count": 126
        }
      ]
    },
    {
      "cell_type": "code",
      "source": [
        "x = np.random.choice([3, 5, 7, 9], size=(3, 5))\n",
        "\n",
        "print(x)"
      ],
      "metadata": {
        "colab": {
          "base_uri": "https://localhost:8080/"
        },
        "id": "n4Y3gtQV0fog",
        "outputId": "8fa90d7c-2926-41a5-d184-dd32851b38cc"
      },
      "execution_count": null,
      "outputs": [
        {
          "output_type": "stream",
          "name": "stdout",
          "text": [
            "[[7 9 7 7 3]\n",
            " [3 7 9 7 9]\n",
            " [5 3 3 3 7]]\n"
          ]
        }
      ]
    },
    {
      "cell_type": "markdown",
      "source": [
        "## Ufunc\n",
        "\n",
        "ufuncs are used to implement vectorization in NumPy which is way faster than iterating over elements.\n",
        "\n",
        "They also provide broadcasting and additional methods like reduce, accumulate etc. that are very helpful for computation.\n",
        "\n",
        "ufuncs also take additional arguments, like:\n",
        "- where = boolean array or condition defining where the operations should take place.\n",
        "- dtype = defining the return type of elements.\n",
        "- out = output array where the return value should be copied."
      ],
      "metadata": {
        "id": "fHQM97KG3_pb"
      }
    },
    {
      "cell_type": "markdown",
      "source": [
        "### Creating your own ufunc\n",
        "\n",
        "To create your own ufunc, you have to define a function, like you do with normal functions in Python, then you add it to your NumPy ufunc library with the frompyfunc() method.\n",
        "\n",
        "The frompyfunc() method takes the following arguments:\n",
        "1. function - the name of the function.\n",
        "2. inputs - the number of input arguments (arrays).\n",
        "3. outputs - the number of output arrays."
      ],
      "metadata": {
        "id": "a3q3u2bs4WRt"
      }
    },
    {
      "cell_type": "code",
      "source": [
        "import numpy as np\n",
        "\n",
        "def add(x, y):\n",
        "  return x+y\n",
        "\n",
        "myadd = np.frompyfunc(add, 2, 1)\n",
        "\n",
        "print(myadd([1, 2, 3, 4], [5, 6, 7, 8]))"
      ],
      "metadata": {
        "colab": {
          "base_uri": "https://localhost:8080/"
        },
        "id": "TB2o7qA34SWh",
        "outputId": "c4bb6665-4627-49f0-c883-4423bab12dc3"
      },
      "execution_count": null,
      "outputs": [
        {
          "output_type": "stream",
          "name": "stdout",
          "text": [
            "[6 8 10 12]\n"
          ]
        }
      ]
    },
    {
      "cell_type": "markdown",
      "source": [
        "To test if the function is a ufunc use - "
      ],
      "metadata": {
        "id": "e6fPK2RA5WNH"
      }
    },
    {
      "cell_type": "code",
      "source": [
        "print(type(myadd))\n",
        "print(type(add))"
      ],
      "metadata": {
        "colab": {
          "base_uri": "https://localhost:8080/"
        },
        "id": "eBGCZuQt5eyZ",
        "outputId": "df1c2826-af79-4f99-cf91-6e1e84049735"
      },
      "execution_count": null,
      "outputs": [
        {
          "output_type": "stream",
          "name": "stdout",
          "text": [
            "<class 'numpy.ufunc'>\n",
            "<class 'function'>\n"
          ]
        }
      ]
    },
    {
      "cell_type": "code",
      "source": [
        "if type(np.add) == np.ufunc:\n",
        "  print('add is ufunc')\n",
        "else:\n",
        "  print('add is not ufunc')\n",
        "\n",
        "if type(myadd) == np.ufunc:\n",
        "  print('myadd is ufunc')\n",
        "else:\n",
        "  print('myadd is not ufunc')"
      ],
      "metadata": {
        "colab": {
          "base_uri": "https://localhost:8080/"
        },
        "id": "Q2dHTGIA5iQS",
        "outputId": "f712ec33-f46b-4578-9895-c599239f5449"
      },
      "execution_count": null,
      "outputs": [
        {
          "output_type": "stream",
          "name": "stdout",
          "text": [
            "add is ufunc\n",
            "myadd is ufunc\n"
          ]
        }
      ]
    },
    {
      "cell_type": "markdown",
      "source": [
        "### Simple arithmetic\n",
        "\n",
        "add()\n",
        "\n",
        "subtract()\n",
        "\n",
        "multiply()\n",
        "\n",
        "divide()\n",
        "\n",
        "power()\n",
        "\n",
        "mod() / remainder()\n",
        "\n",
        "divmod() - both quotient and mod\n",
        "\n",
        "absolute() / abs()"
      ],
      "metadata": {
        "id": "MjCFfUfG6AIU"
      }
    },
    {
      "cell_type": "markdown",
      "source": [
        "### Rounding Decimals\n",
        "\n",
        "- truncation = trunc()\n",
        "- fix = fix()\n",
        "- rounding = around()\n",
        "- floor = floor()\n",
        "- ceil = ceil()"
      ],
      "metadata": {
        "id": "DcMt5FSi63V7"
      }
    }
  ]
}