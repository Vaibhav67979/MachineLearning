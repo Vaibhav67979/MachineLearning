{
  "nbformat": 4,
  "nbformat_minor": 0,
  "metadata": {
    "colab": {
      "provenance": [],
      "collapsed_sections": [
        "JK6JBV7te1jc"
      ],
      "toc_visible": true,
      "authorship_tag": "ABX9TyOtPcvgPe76pvXEyCEBXSED",
      "include_colab_link": true
    },
    "kernelspec": {
      "name": "python3",
      "display_name": "Python 3"
    },
    "language_info": {
      "name": "python"
    }
  },
  "cells": [
    {
      "cell_type": "markdown",
      "metadata": {
        "id": "view-in-github",
        "colab_type": "text"
      },
      "source": [
        "<a href=\"https://colab.research.google.com/github/Vaibhav67979/MachineLearning/blob/main/MLCourse/PythonCourse.ipynb\" target=\"_parent\"><img src=\"https://colab.research.google.com/assets/colab-badge.svg\" alt=\"Open In Colab\"/></a>"
      ]
    },
    {
      "cell_type": "code",
      "execution_count": null,
      "metadata": {
        "colab": {
          "base_uri": "https://localhost:8080/"
        },
        "id": "9O2wWKuoco53",
        "outputId": "608f80e1-7de7-436f-a364-85d7875efb7e"
      },
      "outputs": [
        {
          "output_type": "stream",
          "name": "stdout",
          "text": [
            "9\n",
            "1\n",
            "10\n",
            "6\n",
            "0\n",
            "4\n",
            "5\n",
            "8\n",
            "3\n",
            "7\n"
          ]
        }
      ],
      "source": [
        "import random\n",
        "ls = []\n",
        "while ls.__len__()<10:\n",
        "    a = (random.randint(0,10))\n",
        "    if a not in ls:\n",
        "        ls.append(a)\n",
        "for a in ls:\n",
        "    print(a)\n"
      ]
    },
    {
      "cell_type": "code",
      "source": [
        "\n",
        "age = input('enter your age : ')\n",
        "if age.isdigit():\n",
        "    if 1 < int(age) < 18:\n",
        "        print('too young')\n",
        "    elif 125 > int(age) >= 18:\n",
        "        print('you are eligible')\n",
        "    else:\n",
        "      print(\"Enter valid age!\")\n",
        "else:\n",
        "    print('Age must be a number')"
      ],
      "metadata": {
        "colab": {
          "base_uri": "https://localhost:8080/"
        },
        "id": "B3fzWzjAc3Ds",
        "outputId": "812e0acd-29a4-4620-e4e9-d5a6a9ffb016"
      },
      "execution_count": null,
      "outputs": [
        {
          "output_type": "stream",
          "name": "stdout",
          "text": [
            "enter your age : 0\n",
            "Enter valid age!\n"
          ]
        }
      ]
    },
    {
      "cell_type": "code",
      "source": [
        "a = [1,2,11,0,67,3,4,5,6,7,8]\n",
        "b = [\"new\",'old','vaibhav']\n",
        "a.append(b[2])\n",
        "c = (a+b)*2\n",
        "print(c)\n",
        "print(set(c))\n",
        "type(a)"
      ],
      "metadata": {
        "colab": {
          "base_uri": "https://localhost:8080/"
        },
        "id": "VdfT4jFiewC_",
        "outputId": "885f8d01-1f95-4174-8768-ae90022b42f6"
      },
      "execution_count": null,
      "outputs": [
        {
          "output_type": "stream",
          "name": "stdout",
          "text": [
            "[1, 2, 11, 0, 67, 3, 4, 5, 6, 7, 8, 'vaibhav', 'new', 'old', 'vaibhav', 1, 2, 11, 0, 67, 3, 4, 5, 6, 7, 8, 'vaibhav', 'new', 'old', 'vaibhav']\n",
            "{0, 1, 2, 67, 3, 4, 5, 6, 7, 8, 'vaibhav', 11, 'new', 'old'}\n"
          ]
        },
        {
          "output_type": "execute_result",
          "data": {
            "text/plain": [
              "list"
            ]
          },
          "metadata": {},
          "execution_count": 48
        }
      ]
    },
    {
      "cell_type": "markdown",
      "source": [
        "Hello, My Name is Vaibhav."
      ],
      "metadata": {
        "id": "vVfwcQRVi9TY"
      }
    },
    {
      "cell_type": "code",
      "source": [
        "a = {1,3,4,'v','b',3,4,7}\n",
        "b = ('sd','ee',33,56)\n",
        "type(a)\n",
        "type(b)"
      ],
      "metadata": {
        "colab": {
          "base_uri": "https://localhost:8080/"
        },
        "id": "7YWSZo5jjA1Y",
        "outputId": "a98e16d3-4c29-4335-b81f-fe89aaca8478"
      },
      "execution_count": null,
      "outputs": [
        {
          "output_type": "execute_result",
          "data": {
            "text/plain": [
              "tuple"
            ]
          },
          "metadata": {},
          "execution_count": 55
        }
      ]
    },
    {
      "cell_type": "markdown",
      "source": [
        "# 07/12/2022  Wednesday\n",
        "\n",
        "---\n",
        "\n"
      ],
      "metadata": {
        "id": "8i_dz3lnh_53"
      }
    },
    {
      "cell_type": "markdown",
      "source": [
        "Break - Exits the loop.\n",
        "\n",
        "Continue - Terminates the current iteration."
      ],
      "metadata": {
        "id": "0gppziaZiaRH"
      }
    },
    {
      "cell_type": "code",
      "source": [
        "s = \"geeksforgeeks\"\n",
        "for i in s:\n",
        "  if i == 'e' or i == 's':\n",
        "    continue\n",
        "  print(i)\n",
        "print(\"Out of the loop.\")\n",
        "\n"
      ],
      "metadata": {
        "colab": {
          "base_uri": "https://localhost:8080/"
        },
        "id": "2EtES_6YiZoN",
        "outputId": "692ff99b-042d-4309-a481-d314e2cb6f22"
      },
      "execution_count": null,
      "outputs": [
        {
          "output_type": "stream",
          "name": "stdout",
          "text": [
            "g\n",
            "k\n",
            "f\n",
            "o\n",
            "r\n",
            "g\n",
            "k\n",
            "Out of the loop.\n"
          ]
        }
      ]
    },
    {
      "cell_type": "markdown",
      "source": [
        "match is the switch statement of Python language. We can't use break in match.(works for python version > 3.10)"
      ],
      "metadata": {
        "id": "csOE-9m_n5g_"
      }
    },
    {
      "cell_type": "code",
      "source": [
        "lang = input(\"What is the programming language yo u want to learn\")\n",
        "\n",
        "match lang:\n",
        "    case \"Javascript\":\n",
        "      print(\"You can become a web developer\")\n",
        "\n",
        "    case \"Python\":\n",
        "      print(\"You can become a data scientist\")\n",
        "    \n",
        "    case \"java\":\n",
        "      print(\"You can become a mobile app developer\")\n",
        "\n",
        "    case \"c#\":\n",
        "      print(\"You can become a game developer\")\n",
        "\n",
        "    case _:\n",
        "      print(\"The lang doesn't matter, what matters is solving problems.\")"
      ],
      "metadata": {
        "colab": {
          "base_uri": "https://localhost:8080/",
          "height": 131
        },
        "id": "zwv2XaWVh_Pe",
        "outputId": "a388a111-6ebe-425b-b792-9ed6f49f752d"
      },
      "execution_count": null,
      "outputs": [
        {
          "output_type": "error",
          "ename": "SyntaxError",
          "evalue": "ignored",
          "traceback": [
            "\u001b[0;36m  File \u001b[0;32m\"<ipython-input-10-a6012e5c0fe9>\"\u001b[0;36m, line \u001b[0;32m3\u001b[0m\n\u001b[0;31m    match lang:\u001b[0m\n\u001b[0m          ^\u001b[0m\n\u001b[0;31mSyntaxError\u001b[0m\u001b[0;31m:\u001b[0m invalid syntax\n"
          ]
        }
      ]
    },
    {
      "cell_type": "markdown",
      "source": [
        "# 09/12/2022 Friday\n",
        "\n",
        "---\n",
        "\n"
      ],
      "metadata": {
        "id": "h8txQCvY8fK5"
      }
    },
    {
      "cell_type": "code",
      "source": [
        "a = [1.233,2.444,3.656,4.567]\n",
        "print(type(a))\n",
        "b = ['addas', 'vaibhav', 'acd']\n",
        "print(type(b))\n",
        "print(type(a[1]))\n",
        "print(type(b[2]))\n",
        "c = [1,2,'three',4.0]\n",
        "print(type(c))\n",
        "print(type(c[3]))"
      ],
      "metadata": {
        "colab": {
          "base_uri": "https://localhost:8080/"
        },
        "id": "1fnrSf7i6l60",
        "outputId": "09433fbd-a8cc-4123-9d63-fa946b5a492f"
      },
      "execution_count": null,
      "outputs": [
        {
          "output_type": "stream",
          "name": "stdout",
          "text": [
            "<class 'list'>\n",
            "<class 'list'>\n",
            "<class 'float'>\n",
            "<class 'str'>\n",
            "<class 'list'>\n",
            "<class 'float'>\n",
            "None\n"
          ]
        }
      ]
    },
    {
      "cell_type": "markdown",
      "source": [
        "To access an element of a nested list uses double square braces with desired indices "
      ],
      "metadata": {
        "id": "pV5gi01W9u_P"
      }
    },
    {
      "cell_type": "code",
      "source": [
        "d = [1,2,[3,4],5,6]\n",
        "print(d[2][0])\n"
      ],
      "metadata": {
        "colab": {
          "base_uri": "https://localhost:8080/"
        },
        "id": "6PxtOY5l9tjB",
        "outputId": "3ba1a655-f78b-41da-a4d9-a5ce9e040d01"
      },
      "execution_count": null,
      "outputs": [
        {
          "output_type": "stream",
          "name": "stdout",
          "text": [
            "3\n",
            "None\n"
          ]
        }
      ]
    },
    {
      "cell_type": "code",
      "source": [
        "a = [1,2,3,4,5,3.45,'hello',True,True,False]\n",
        "sum = 0\n",
        "for i in a:\n",
        "  if type(i)==int or type(i)==float or type(i)==bool:\n",
        "    sum += i\n",
        "print(sum)"
      ],
      "metadata": {
        "colab": {
          "base_uri": "https://localhost:8080/"
        },
        "id": "Ij6Z9E9O_LmC",
        "outputId": "27d8c61d-9d05-4ebf-c55b-a83a3dac27dc"
      },
      "execution_count": null,
      "outputs": [
        {
          "output_type": "stream",
          "name": "stdout",
          "text": [
            "20.45\n"
          ]
        }
      ]
    },
    {
      "cell_type": "markdown",
      "source": [
        "bool is a subtype of integer not a separate type. Thus when we add true in the list it will add its integer value that is 1."
      ],
      "metadata": {
        "id": "9mEc5frlBq48"
      }
    },
    {
      "cell_type": "code",
      "source": [
        "a = [1,2,3,4,5,False]\n",
        "sum = 0\n",
        "for i in a:\n",
        "  sum += i\n",
        "print(sum)\n",
        "print(True)"
      ],
      "metadata": {
        "colab": {
          "base_uri": "https://localhost:8080/"
        },
        "id": "I0p668zfAlKp",
        "outputId": "98ec2915-f842-4338-e971-8b2af2c17052"
      },
      "execution_count": null,
      "outputs": [
        {
          "output_type": "stream",
          "name": "stdout",
          "text": [
            "15\n",
            "True\n"
          ]
        }
      ]
    },
    {
      "cell_type": "code",
      "source": [
        "list1 = [1,2,3,[4,5,6],(7,8,9)]\n",
        "sum = 0\n",
        "for i in list1:\n",
        "  if type(i) == int or type(i) == float:\n",
        "    sum += i\n",
        "  if type(i) == list or type(i)== tuple:\n",
        "    for x in i:\n",
        "        sum += x\n",
        "\n",
        "print(sum)"
      ],
      "metadata": {
        "colab": {
          "base_uri": "https://localhost:8080/"
        },
        "id": "R_B0wHBpB-lM",
        "outputId": "5026d303-07d1-4836-c759-a2812090a209"
      },
      "execution_count": null,
      "outputs": [
        {
          "output_type": "stream",
          "name": "stdout",
          "text": [
            "30\n"
          ]
        }
      ]
    },
    {
      "cell_type": "markdown",
      "source": [
        "Doesn't work in colab ^^^^"
      ],
      "metadata": {
        "id": "p0sGcIy4HyLy"
      }
    },
    {
      "cell_type": "code",
      "source": [
        "list1 = [1,2,3,[4,5,6],(7,8,9)]\n",
        "print(type(list1))\n",
        "for i in list1:\n",
        "  if type(i) =='list':\n",
        "    print(\"true\")\n",
        "  else:\n",
        "    print(\"false\")\n"
      ],
      "metadata": {
        "colab": {
          "base_uri": "https://localhost:8080/"
        },
        "id": "VRSbhgBnDlrY",
        "outputId": "b53c0943-85df-4d3f-a779-1f15724c254a"
      },
      "execution_count": null,
      "outputs": [
        {
          "output_type": "stream",
          "name": "stdout",
          "text": [
            "<class 'list'>\n",
            "false\n",
            "false\n",
            "false\n",
            "false\n",
            "false\n"
          ]
        }
      ]
    },
    {
      "cell_type": "code",
      "source": [
        "a = ('ab','b','c')\n",
        "print(list(a))"
      ],
      "metadata": {
        "colab": {
          "base_uri": "https://localhost:8080/",
          "height": 183
        },
        "id": "niAtI26yI9D_",
        "outputId": "d066f07a-482e-4f03-dbac-c78c83f424cf"
      },
      "execution_count": null,
      "outputs": [
        {
          "output_type": "error",
          "ename": "TypeError",
          "evalue": "ignored",
          "traceback": [
            "\u001b[0;31m---------------------------------------------------------------------------\u001b[0m",
            "\u001b[0;31mTypeError\u001b[0m                                 Traceback (most recent call last)",
            "\u001b[0;32m<ipython-input-83-96ab3c19f837>\u001b[0m in \u001b[0;36m<module>\u001b[0;34m\u001b[0m\n\u001b[1;32m      1\u001b[0m \u001b[0ma\u001b[0m \u001b[0;34m=\u001b[0m \u001b[0;34m(\u001b[0m\u001b[0;34m'ab'\u001b[0m\u001b[0;34m,\u001b[0m\u001b[0;34m'b'\u001b[0m\u001b[0;34m,\u001b[0m\u001b[0;34m'c'\u001b[0m\u001b[0;34m)\u001b[0m\u001b[0;34m\u001b[0m\u001b[0;34m\u001b[0m\u001b[0m\n\u001b[0;32m----> 2\u001b[0;31m \u001b[0mprint\u001b[0m\u001b[0;34m(\u001b[0m\u001b[0mlist\u001b[0m\u001b[0;34m(\u001b[0m\u001b[0ma\u001b[0m\u001b[0;34m)\u001b[0m\u001b[0;34m)\u001b[0m\u001b[0;34m\u001b[0m\u001b[0;34m\u001b[0m\u001b[0m\n\u001b[0m",
            "\u001b[0;31mTypeError\u001b[0m: 'list' object is not callable"
          ]
        }
      ]
    },
    {
      "cell_type": "markdown",
      "source": [
        "list : ordered and changeable, allows duplicate\n",
        "\n",
        "tuple : ordered and unchangeable, allows duplicate\n",
        "\n",
        "set : unordered and unchangeable and unindexed, no duplicates\n",
        "\n",
        "Dict : ordered and changeable, no duplicates\n"
      ],
      "metadata": {
        "id": "II6h5Q-JKDar"
      }
    },
    {
      "cell_type": "markdown",
      "source": [
        "\n",
        "\n",
        "Inserting into a list :"
      ],
      "metadata": {
        "id": "PKLIyeKzNOwd"
      }
    },
    {
      "cell_type": "code",
      "source": [
        "a = ['ab','b','c']\n",
        "a[1:3] = ['a','d']\n",
        "print(a) "
      ],
      "metadata": {
        "colab": {
          "base_uri": "https://localhost:8080/"
        },
        "id": "Oj8KNs4lM3w3",
        "outputId": "a428bff6-de0d-4b85-b298-fd5fc2346ac5"
      },
      "execution_count": null,
      "outputs": [
        {
          "output_type": "stream",
          "name": "stdout",
          "text": [
            "['ab', 'a', 'd']\n"
          ]
        }
      ]
    },
    {
      "cell_type": "markdown",
      "source": [
        Function Name | Use
        ------------- | --------
        append | adds element to the end of the list
        extend | adds list to the end of the list (alternative : '+' )
        remove | removes the first occurence of the mentioned element
        pop | removes the element at specified index or the last element
        clear | clears the content
        del | deletes the list or element if mentioned
        "<div style=\" display : inline-block; width:290px\">Function Name</div> | <div style=\" display : inline-block; width:290px\">Use</div> \n",
        "--------------| ------\n",
        "append | adds element to the end of the list\n",
        "extend | adds list to the end of the list (alternative : '+' )\n",
        "remove | removes the first occurence of the mentioned element \n",
        "pop | removes the element at specified index or the last element\n",
        "clear | clears the content\n",
        "del | deletes the list or element if mentioned\n",
        "\n",
        "> tuple can extend a list but it wont be a tuple anymore\n"
      ],
      "metadata": {
        "id": "AoxaH3XkNVcJ"
      }
    },
    {
      "cell_type": "code",
      "source": [
        "a = ['ab','b','c','b']\n",
        "a.remove('b')\n",
        "print(a)\n",
        "a.pop(0)\n",
        "print(a)\n",
        "a.pop()\n",
        "print(a)"
      ],
      "metadata": {
        "colab": {
          "base_uri": "https://localhost:8080/"
        },
        "id": "4uYxTl9eODuy",
        "outputId": "20e7d4bb-50df-4fb9-db0f-ea6378482fde"
      },
      "execution_count": null,
      "outputs": [
        {
          "output_type": "stream",
          "name": "stdout",
          "text": [
            "['ab', 'c', 'b']\n",
            "['c', 'b']\n",
            "['c']\n"
          ]
        }
      ]
    },
    {
      "cell_type": "code",
      "source": [
        "a = [1,3,3,5]\n",
        "a.clear()\n",
        "print(a)"
      ],
      "metadata": {
        "colab": {
          "base_uri": "https://localhost:8080/"
        },
        "id": "EMmyvZMoOuq5",
        "outputId": "4b657995-2fa6-46c9-a713-523c08a421d5"
      },
      "execution_count": null,
      "outputs": [
        {
          "output_type": "stream",
          "name": "stdout",
          "text": [
            "[]\n"
          ]
        }
      ]
    },
    {
      "cell_type": "code",
      "source": [
        "a = [1,3,3,5]\n",
        "del(a[1])\n",
        "print(a)\n",
        "del(a)\n",
        "print(a)"
      ],
      "metadata": {
        "colab": {
          "base_uri": "https://localhost:8080/"
        },
        "id": "wPDzPsgXO0Wy",
        "outputId": "3d827494-da76-4549-f7e2-cc2fa81b47fd"
      },
      "execution_count": null,
      "outputs": [
        {
          "output_type": "stream",
          "name": "stdout",
          "text": [
            "[1, 3, 5]\n"
          ]
        }
      ]
    },
    {
      "cell_type": "markdown",
      "source": [
        "SHORTHAND FOR LOOP\n",
        "\n",
        "condition or expression | loop or itertion"
      ],
      "metadata": {
        "id": "wxJ9n6aYPFWA"
      }
    },
    {
      "cell_type": "code",
      "source": [
        "a = [1,3,3,5]\n",
        "[print(x) for x in a]"
      ],
      "metadata": {
        "colab": {
          "base_uri": "https://localhost:8080/"
        },
        "id": "c8HMAJQrPGZJ",
        "outputId": "4c054152-ff58-49a5-f80e-3525900c2f18"
      },
      "execution_count": null,
      "outputs": [
        {
          "output_type": "stream",
          "name": "stdout",
          "text": [
            "1\n",
            "3\n",
            "3\n",
            "5\n"
          ]
        },
        {
          "output_type": "execute_result",
          "data": {
            "text/plain": [
              "[None, None, None, None]"
            ]
          },
          "metadata": {},
          "execution_count": 96
        }
      ]
    },
    {
      "cell_type": "markdown",
      "source": [
        "LIST COMPREHENSION\n",
        "\n",
        "variable | outer loop or iteration | condition or inner loop"
      ],
      "metadata": {
        "id": "WhR5k085Pu4u"
      }
    },
    {
      "cell_type": "code",
      "source": [
        "fruits = ['apple','banana','kiwi']\n",
        "newfruits = [x for x in fruits if 'a' in x]\n",
        "print(newfruits)"
      ],
      "metadata": {
        "colab": {
          "base_uri": "https://localhost:8080/"
        },
        "id": "V-SkWg0OPzCF",
        "outputId": "9d468be6-e509-4a2e-b750-77462af1e585"
      },
      "execution_count": null,
      "outputs": [
        {
          "output_type": "stream",
          "name": "stdout",
          "text": [
            "['apple', 'banana']\n"
          ]
        }
      ]
    },
    {
      "cell_type": "markdown",
      "source": [
        "SORTING"
      ],
      "metadata": {
        "id": "PKbFVCODQ-yt"
      }
    },
    {
      "cell_type": "code",
      "source": [
        "a = [1,3,2,5]\n",
        "a.sort()\n",
        "print(a)\n",
        "a.sort(reverse=True)\n",
        "print(a)"
      ],
      "metadata": {
        "colab": {
          "base_uri": "https://localhost:8080/"
        },
        "id": "BuRZHv8GRBPw",
        "outputId": "770d855c-775d-46ef-b6c1-4a426206f63d"
      },
      "execution_count": null,
      "outputs": [
        {
          "output_type": "stream",
          "name": "stdout",
          "text": [
            "[1, 2, 3, 5]\n",
            "[5, 3, 2, 1]\n"
          ]
        }
      ]
    },
    {
      "cell_type": "markdown",
      "source": [
        "### TUPLES\n",
        "\n",
        "---\n",
        "\n"
      ],
      "metadata": {
        "id": "LquNV1PORzPz"
      }
    },
    {
      "cell_type": "markdown",
      "source": [
        "TUPLES can't be modified but list inside a tuple can be modified upto some extent. Only the existing elemnts can be modified but not the whole list"
      ],
      "metadata": {
        "id": "O-R56ks8SCRR"
      }
    },
    {
      "cell_type": "code",
      "source": [
        "a = (1,2,3,[1,2,3])\n",
        "a[3][0]= 23\n",
        "print(a)\n",
        "a[3] = [1,1,1,1] #doesn't work\n"
      ],
      "metadata": {
        "colab": {
          "base_uri": "https://localhost:8080/",
          "height": 218
        },
        "id": "usEAHoPXRlJW",
        "outputId": "7745ba7a-fa7b-4103-8328-983aca2762e6"
      },
      "execution_count": null,
      "outputs": [
        {
          "output_type": "stream",
          "name": "stdout",
          "text": [
            "(1, 2, 3, [23, 2, 3])\n"
          ]
        },
        {
          "output_type": "error",
          "ename": "TypeError",
          "evalue": "ignored",
          "traceback": [
            "\u001b[0;31m---------------------------------------------------------------------------\u001b[0m",
            "\u001b[0;31mTypeError\u001b[0m                                 Traceback (most recent call last)",
            "\u001b[0;32m<ipython-input-108-6e600e3d452b>\u001b[0m in \u001b[0;36m<module>\u001b[0;34m\u001b[0m\n\u001b[1;32m      2\u001b[0m \u001b[0ma\u001b[0m\u001b[0;34m[\u001b[0m\u001b[0;36m3\u001b[0m\u001b[0;34m]\u001b[0m\u001b[0;34m[\u001b[0m\u001b[0;36m0\u001b[0m\u001b[0;34m]\u001b[0m\u001b[0;34m=\u001b[0m \u001b[0;36m23\u001b[0m\u001b[0;34m\u001b[0m\u001b[0;34m\u001b[0m\u001b[0m\n\u001b[1;32m      3\u001b[0m \u001b[0mprint\u001b[0m\u001b[0;34m(\u001b[0m\u001b[0ma\u001b[0m\u001b[0;34m)\u001b[0m\u001b[0;34m\u001b[0m\u001b[0;34m\u001b[0m\u001b[0m\n\u001b[0;32m----> 4\u001b[0;31m \u001b[0ma\u001b[0m\u001b[0;34m[\u001b[0m\u001b[0;36m3\u001b[0m\u001b[0;34m]\u001b[0m \u001b[0;34m=\u001b[0m \u001b[0;34m[\u001b[0m\u001b[0;36m1\u001b[0m\u001b[0;34m,\u001b[0m\u001b[0;36m1\u001b[0m\u001b[0;34m,\u001b[0m\u001b[0;36m1\u001b[0m\u001b[0;34m,\u001b[0m\u001b[0;36m1\u001b[0m\u001b[0;34m]\u001b[0m \u001b[0;31m#doesn't work\u001b[0m\u001b[0;34m\u001b[0m\u001b[0;34m\u001b[0m\u001b[0m\n\u001b[0m",
            "\u001b[0;31mTypeError\u001b[0m: 'tuple' object does not support item assignment"
          ]
        }
      ]
    },
    {
      "cell_type": "markdown",
      "source": [
        "One item tuple : "
      ],
      "metadata": {
        "id": "WRGDPfS5SoH8"
      }
    },
    {
      "cell_type": "code",
      "source": [
        "a = ('a')#wrong this is a string\n",
        "print(a)\n",
        "a = ('a',)#correct\n",
        "print(a)"
      ],
      "metadata": {
        "colab": {
          "base_uri": "https://localhost:8080/"
        },
        "id": "qCL2ZVU-SmkP",
        "outputId": "40b7adc6-8df8-4634-c3a5-862bf2e55bd2"
      },
      "execution_count": null,
      "outputs": [
        {
          "output_type": "stream",
          "name": "stdout",
          "text": [
            "a\n",
            "('a',)\n"
          ]
        }
      ]
    },
    {
      "cell_type": "markdown",
      "source": [
        "Modifying tuples can be done by converting the tuple into list and performing the change and then reconverting it into tuple"
      ],
      "metadata": {
        "id": "ykfqZmPqTSM7"
      }
    },
    {
      "cell_type": "markdown",
      "source": [
        "UNPACKING"
      ],
      "metadata": {
        "id": "TH2jV0jTTiD5"
      }
    },
    {
      "cell_type": "code",
      "source": [
        "a = (1,2,3)\n",
        "\n",
        "(one , two , three) = a\n",
        "\n",
        "print(a)\n",
        "print(one)\n",
        "print(two)\n",
        "print(three)"
      ],
      "metadata": {
        "colab": {
          "base_uri": "https://localhost:8080/"
        },
        "id": "L5t8CeCgTPgy",
        "outputId": "dd80050b-3575-45e5-8be5-6dc0f8db593c"
      },
      "execution_count": null,
      "outputs": [
        {
          "output_type": "stream",
          "name": "stdout",
          "text": [
            "(1, 2, 3)\n",
            "1\n",
            "2\n",
            "3\n"
          ]
        }
      ]
    },
    {
      "cell_type": "code",
      "source": [
        "a = (1,2,3,4,4,5,6)\n",
        "\n",
        "(one , two , *three, five, *six) = a\n",
        "\n",
        "print(a)\n",
        "print(one)\n",
        "print(two)\n",
        "print(three)\n",
        "print(five)\n",
        "print(six)"
      ],
      "metadata": {
        "colab": {
          "base_uri": "https://localhost:8080/",
          "height": 131
        },
        "id": "BScWL1VqTx8s",
        "outputId": "56bac504-1fcd-47db-f598-30a8187c2b77"
      },
      "execution_count": null,
      "outputs": [
        {
          "output_type": "error",
          "ename": "SyntaxError",
          "evalue": "ignored",
          "traceback": [
            "\u001b[0;36m  File \u001b[0;32m\"<ipython-input-112-c888457765b8>\"\u001b[0;36m, line \u001b[0;32m3\u001b[0m\n\u001b[0;31m    (one , two , *three, five, *six) = a\u001b[0m\n\u001b[0m    ^\u001b[0m\n\u001b[0;31mSyntaxError\u001b[0m\u001b[0;31m:\u001b[0m two starred expressions in assignment\n"
          ]
        }
      ]
    },
    {
      "cell_type": "code",
      "source": [
        "a = (1,2,3,4,4,5,6)\n",
        "\n",
        "(one , two , three, five, *six) = a\n",
        "\n",
        "print(a)\n",
        "print(one)\n",
        "print(two)\n",
        "print(three)\n",
        "print(five)\n",
        "print(six)"
      ],
      "metadata": {
        "colab": {
          "base_uri": "https://localhost:8080/"
        },
        "id": "Li2mNveKUFT-",
        "outputId": "3545047b-8ec6-49e5-f485-63d44474d0e1"
      },
      "execution_count": null,
      "outputs": [
        {
          "output_type": "stream",
          "name": "stdout",
          "text": [
            "(1, 2, 3, 4, 4, 5, 6)\n",
            "1\n",
            "2\n",
            "3\n",
            "4\n",
            "[4, 5, 6]\n"
          ]
        }
      ]
    },
    {
      "cell_type": "markdown",
      "source": [],
      "metadata": {
        "id": "F29_fNvgW-Ch"
      }
    },
    {
      "cell_type": "markdown",
      "source": [
        "# 19/12/2022"
      ],
      "metadata": {
        "id": "QJqMxJlV7J_X"
      }
    },
    {
      "cell_type": "markdown",
      "source": [
        "#SETS\n",
        "\n",
        "set : unordered and unchangeable and unindexed, no duplicates\n",
        "\n",
        "\n",
        "creating a set : "
      ],
      "metadata": {
        "id": "3F5ZnRvR61D2"
      }
    },
    {
      "cell_type": "code",
      "source": [
        "english = set(['door', 'car', 'era'])\n",
        "spanish = {'era', 'luna', 'hola'}\n",
        "emptyset = set()\n",
        "\n",
        "print('english : ', english)\n",
        "print('spanish : ', spanish)\n",
        "\n"
      ],
      "metadata": {
        "colab": {
          "base_uri": "https://localhost:8080/"
        },
        "id": "WNO5cqQhYrS5",
        "outputId": "bf46cc8a-eecf-4cf0-d496-b19e2f0ea330"
      },
      "execution_count": null,
      "outputs": [
        {
          "output_type": "stream",
          "name": "stdout",
          "text": [
            "english :  {'door', 'car', 'era'}\n",
            "spanish :  {'luna', 'hola', 'era'}\n"
          ]
        }
      ]
    },
    {
      "cell_type": "markdown",
      "source": [
        "Basic Set operations"
      ],
      "metadata": {
        "id": "4tkvFdtaan79"
      }
    },
    {
      "cell_type": "code",
      "source": [
        "english = set(['door', 'car', 'era'])\n",
        "spanish = {'era', 'luna', 'hola'}\n",
        "words = {'door', 'era'}\n",
        "both = english.intersection(spanish)\n",
        "a = english.difference(spanish)\n",
        "b = english.union(spanish)\n",
        "c = english.issubset(spanish)\n",
        "d = spanish.issubset(english)\n",
        "e = words.issubset(english)\n",
        "f = words.issubset(spanish)\n",
        "print(both)\n",
        "print(a)\n",
        "print(b)\n",
        "print(c)\n",
        "print(d)\n",
        "print(e)\n",
        "print(f)"
      ],
      "metadata": {
        "colab": {
          "base_uri": "https://localhost:8080/"
        },
        "id": "n-vkS6-waoZe",
        "outputId": "2267d971-d6cf-4da9-d3fc-39f5caa05c47"
      },
      "execution_count": null,
      "outputs": [
        {
          "output_type": "stream",
          "name": "stdout",
          "text": [
            "{'era'}\n",
            "{'door', 'car'}\n",
            "{'hola', 'luna', 'door', 'car', 'era'}\n",
            "False\n",
            "False\n",
            "True\n",
            "False\n"
          ]
        }
      ]
    },
    {
      "cell_type": "markdown",
      "source": [
        "Symmetric difference is set of all the elements in either one of the sets but not in both "
      ],
      "metadata": {
        "id": "wZr0ntlcbPh3"
      }
    },
    {
      "cell_type": "code",
      "source": [
        "english = set(['door', 'car', 'era'])\n",
        "spanish = {'era', 'luna', 'hola'}\n",
        "\n",
        "diff = english.symmetric_difference(spanish)\n",
        "print(diff)"
      ],
      "metadata": {
        "colab": {
          "base_uri": "https://localhost:8080/"
        },
        "id": "8eema1ooa_4A",
        "outputId": "664d6cd3-3157-4c9e-98fc-3966af3fc928"
      },
      "execution_count": null,
      "outputs": [
        {
          "output_type": "stream",
          "name": "stdout",
          "text": [
            "{'car', 'luna', 'door', 'hola'}\n"
          ]
        }
      ]
    },
    {
      "cell_type": "markdown",
      "source": [
        "set relative complement(-) : set of elements in the first set but not in the second set(SET DIFFERENCE)"
      ],
      "metadata": {
        "id": "e241p7Zrbcn1"
      }
    },
    {
      "cell_type": "code",
      "source": [
        "english = set(['door', 'car', 'era'])\n",
        "spanish = {'era', 'luna', 'hola'}\n",
        "\n",
        "eng = english - spanish\n",
        "spa = spanish - english\n",
        "\n",
        "print(eng)\n",
        "print(spa)\n",
        "print(english.__class__)\n",
        "print(english.__class__.__name__)\n",
        "if 'era' in english:\n",
        "  print(\"Has era.\")"
      ],
      "metadata": {
        "colab": {
          "base_uri": "https://localhost:8080/"
        },
        "id": "39JRYNAUbyeN",
        "outputId": "804c0ac5-2d1b-4e29-b775-5608ea74adec"
      },
      "execution_count": null,
      "outputs": [
        {
          "output_type": "stream",
          "name": "stdout",
          "text": [
            "{'door', 'car'}\n",
            "{'luna', 'hola'}\n",
            "<class 'set'>\n",
            "set\n",
            "Has era.\n"
          ]
        }
      ]
    },
    {
      "cell_type": "markdown",
      "source": [
        "Adding and removing and popping elements of a set"
      ],
      "metadata": {
        "id": "oeZwKddCdblM"
      }
    },
    {
      "cell_type": "code",
      "source": [
        "english = set(['door', 'car', 'era'])\n",
        "spanish = {'era', 'luna', 'hola'}\n",
        "\n",
        "english.add(\"lunar\")\n",
        "print(english)\n",
        "english.add(\"lunar\")\n",
        "print(english)\n",
        "english.add('cat')\n",
        "print(english)\n",
        "\n",
        "english.pop()\n",
        "print(english)\n",
        "\n",
        "english.remove('door')\n",
        "print(english)"
      ],
      "metadata": {
        "colab": {
          "base_uri": "https://localhost:8080/"
        },
        "id": "jcb8yxxGdbR5",
        "outputId": "1986a843-db5d-440f-c90d-d0eb9db35008"
      },
      "execution_count": null,
      "outputs": [
        {
          "output_type": "stream",
          "name": "stdout",
          "text": [
            "{'door', 'car', 'era', 'lunar'}\n",
            "{'door', 'car', 'era', 'lunar'}\n",
            "{'lunar', 'cat', 'door', 'car', 'era'}\n",
            "{'cat', 'door', 'car', 'era'}\n",
            "{'cat', 'car', 'era'}\n"
          ]
        }
      ]
    },
    {
      "cell_type": "markdown",
      "source": [
        "Mergeing a set : not same as union as union we store the result in a different variable but here we add to the same set"
      ],
      "metadata": {
        "id": "T4xfRt1eeTBy"
      }
    },
    {
      "cell_type": "code",
      "source": [
        "english = set(['door', 'car', 'era'])\n",
        "spanish = {'era', 'luna', 'hola'}\n",
        "\n",
        "english.update(spanish)\n",
        "print(english)"
      ],
      "metadata": {
        "colab": {
          "base_uri": "https://localhost:8080/"
        },
        "id": "3072iy-Bempq",
        "outputId": "cb3a698b-fd5e-4448-c74d-d7f58999d1e2"
      },
      "execution_count": null,
      "outputs": [
        {
          "output_type": "stream",
          "name": "stdout",
          "text": [
            "{'hola', 'luna', 'door', 'car', 'era'}\n"
          ]
        }
      ]
    },
    {
      "cell_type": "markdown",
      "source": [
        "#DICTIONARIES :    \n",
        "\n",
        "---\n",
        "\n",
        "\n",
        "\n",
        "+ unordered key-value pairs\n",
        "\n",
        "+ keys are immutable\n",
        "\n",
        "+ values can be any object"
      ],
      "metadata": {
        "id": "JK6JBV7te1jc"
      }
    },
    {
      "cell_type": "markdown",
      "source": [
        "creating a dictionary"
      ],
      "metadata": {
        "id": "drFUCE9hfz_Y"
      }
    },
    {
      "cell_type": "code",
      "source": [
        "user = {}\n",
        "user[\"name\"] = 'Vaibhav'\n",
        "print(user)\n",
        "\n",
        "user['email'] = 'vaibhav67979@gmail.com'\n",
        "print(user)\n",
        "\n",
        "the_name = user['name']\n",
        "print(the_name)\n",
        "\n",
        "usr = {'name' : 'Vaibhav', 'email' : 'vaibhav@gmail.com'}\n",
        "print(usr)\n",
        "usr['email'] = \"vaibhav67979@gmail.com\"\n",
        "print(usr)\n",
        "\n",
        "print(usr.keys())"
      ],
      "metadata": {
        "colab": {
          "base_uri": "https://localhost:8080/"
        },
        "id": "YKzP3-nOf3Y4",
        "outputId": "4fe8f311-b718-4a96-d3f8-37bcab698e6e"
      },
      "execution_count": null,
      "outputs": [
        {
          "output_type": "stream",
          "name": "stdout",
          "text": [
            "{'name': 'Vaibhav'}\n",
            "{'name': 'Vaibhav', 'email': 'vaibhav67979@gmail.com'}\n",
            "Vaibhav\n",
            "{'name': 'Vaibhav', 'email': 'vaibhav@gmail.com'}\n",
            "{'name': 'Vaibhav', 'email': 'vaibhav67979@gmail.com'}\n",
            "dict_keys(['name', 'email'])\n"
          ]
        }
      ]
    },
    {
      "cell_type": "markdown",
      "source": [
        "looping over keys and items"
      ],
      "metadata": {
        "id": "RMeUzzgVh2ct"
      }
    },
    {
      "cell_type": "code",
      "source": [
        "user = {'one' : 1, 'two' : 2}\n",
        "# looping over keys\n",
        "for k in user.keys():\n",
        "  print(k)\n",
        "\n",
        "for k in user.keys():\n",
        "  print(\"{} -> {}\".format(k,user[k]))\n",
        "  print(f\"{k} -> {user[k]}\")\n",
        "\n",
        "\n"
      ],
      "metadata": {
        "colab": {
          "base_uri": "https://localhost:8080/"
        },
        "id": "Qe9n7Df6h2B1",
        "outputId": "a37838c0-8b36-45c2-82c3-dd44f4f9c693"
      },
      "execution_count": null,
      "outputs": [
        {
          "output_type": "stream",
          "name": "stdout",
          "text": [
            "one\n",
            "two\n",
            "one -> 1\n",
            "one -> 1\n",
            "two -> 2\n",
            "two -> 2\n"
          ]
        }
      ]
    },
    {
      "cell_type": "code",
      "source": [
        "user = {'one' : 1, 'two' : 2}\n",
        "# looping over items\n",
        "for k,i in user.items():\n",
        "  print(f\"{k} -> {i}\")\n",
        "\n",
        "for k in user.items():\n",
        "  print(\"{} -> {}\".format(*k))\n",
        "  print(f\"{k[0]} -> {k[1]}\")"
      ],
      "metadata": {
        "colab": {
          "base_uri": "https://localhost:8080/"
        },
        "id": "HVuyfNqEkGFc",
        "outputId": "837a4ebf-30db-40f9-c255-dd0758786341"
      },
      "execution_count": null,
      "outputs": [
        {
          "output_type": "stream",
          "name": "stdout",
          "text": [
            "one -> 1\n",
            "two -> 2\n",
            "one -> 1\n",
            "one -> 1\n",
            "two -> 2\n",
            "two -> 2\n"
          ]
        }
      ]
    },
    {
      "cell_type": "markdown",
      "source": [
        "Get method"
      ],
      "metadata": {
        "id": "7KH_dZ2AkO5T"
      }
    },
    {
      "cell_type": "code",
      "source": [
        "dict = {'one' : 1, \"two\" : 2}\n",
        "print(dict.get('one'))\n",
        "print(dict.get('1'))"
      ],
      "metadata": {
        "colab": {
          "base_uri": "https://localhost:8080/"
        },
        "id": "EFdelFPEkQ0p",
        "outputId": "ea67a688-0f95-4f28-ec51-6433cbf56b85"
      },
      "execution_count": null,
      "outputs": [
        {
          "output_type": "stream",
          "name": "stdout",
          "text": [
            "1\n",
            "None\n"
          ]
        }
      ]
    },
    {
      "cell_type": "markdown",
      "source": [
        "Deleting a key"
      ],
      "metadata": {
        "id": "5puiwkhYkqNY"
      }
    },
    {
      "cell_type": "code",
      "source": [
        "dict = {'one' : 1, \"two\" : 2, 'three' : 3}\n",
        "del dict['one']\n",
        "print(dict)\n",
        "dict.pop('two')\n",
        "print(dict)"
      ],
      "metadata": {
        "colab": {
          "base_uri": "https://localhost:8080/"
        },
        "id": "YOkFfVKhks7y",
        "outputId": "fc8b1f2c-5369-4d15-e9af-84440f7115fa"
      },
      "execution_count": null,
      "outputs": [
        {
          "output_type": "stream",
          "name": "stdout",
          "text": [
            "{'two': 2, 'three': 3}\n",
            "{'three': 3}\n"
          ]
        }
      ]
    },
    {
      "cell_type": "markdown",
      "source": [
        "### List of dictionaries : "
      ],
      "metadata": {
        "id": "fEHnrXe7lVh0"
      }
    },
    {
      "cell_type": "code",
      "source": [
        "people = [\n",
        "    {\n",
        "        'name' : 'vaibhav',\n",
        "        'usn' : '2GI20CS193'\n",
        "    },\n",
        "    {\n",
        "        'name' : 'varun',\n",
        "        'usn' : '2GI20CS192',\n",
        "        'email' : 'varun@gmail.com'\n",
        "    }\n",
        "]\n",
        "\n",
        "print(people)\n",
        "print(people[0]['name'])\n",
        "print(people[1]['usn'])"
      ],
      "metadata": {
        "colab": {
          "base_uri": "https://localhost:8080/"
        },
        "id": "PlB5g1Felhdw",
        "outputId": "4c271818-918e-4a9b-b30a-ed1abcd6c8ca"
      },
      "execution_count": null,
      "outputs": [
        {
          "output_type": "stream",
          "name": "stdout",
          "text": [
            "[{'name': 'vaibhav', 'usn': '2GI20CS193'}, {'name': 'varun', 'usn': '2GI20CS192', 'email': 'varun@gmail.com'}]\n",
            "vaibhav\n",
            "2GI20CS192\n"
          ]
        }
      ]
    },
    {
      "cell_type": "markdown",
      "source": [
        "\n",
        "\n",
        "---\n",
        "\n",
        "# Regular Expresions \n",
        "\n",
        "\n",
        "---\n",
        "\n"
      ],
      "metadata": {
        "id": "nFqmu9jGoIi3"
      }
    },
    {
      "cell_type": "markdown",
      "source": [
        "module name = re\n",
        "\n",
        "^ - beginning/starts with   ex - ''    if used in character class means except\n",
        "\n",
        "*= many characters/ 0 or more occurences ex - 'he*0'\n",
        "\n",
        "dollarsign - endswith  ex - 'he..o$'\n",
        "\n",
        "[ ] - a set of characerts  ex - '[a-z]', [arn]\n",
        "\n",
        "\\ - special/escape sequence  ex - '\\d' -> 0-9\n",
        "\n",
        ". - any character except newline  ex -  'he..o'\n",
        "\n",
        "? - 0 or 1 occurences ex - 'hel?o'\n",
        "\n",
        "+- 1 or more occurences ex - 'hel+o'"
      ],
      "metadata": {
        "id": "RcG3njIUoR55"
      }
    },
    {
      "cell_type": "code",
      "source": [
        "import re \n",
        "txt = \"the rain in the spain\"\n",
        "x = re.search(\"^the.*spain$\",txt)\n",
        "# print(x)\n",
        "x"
      ],
      "metadata": {
        "colab": {
          "base_uri": "https://localhost:8080/"
        },
        "id": "6FNA4uMQpPvd",
        "outputId": "39be16ec-4749-43bb-8cd7-0aaa5920136e"
      },
      "execution_count": null,
      "outputs": [
        {
          "output_type": "execute_result",
          "data": {
            "text/plain": [
              "<re.Match object; span=(0, 21), match='the rain in the spain'>"
            ]
          },
          "metadata": {},
          "execution_count": 48
        }
      ]
    },
    {
      "cell_type": "markdown",
      "source": [
        "# Program to validate a USN"
      ],
      "metadata": {
        "id": "z6qE0GxSxLyO"
      }
    },
    {
      "cell_type": "code",
      "source": [
        "usn = input(\"Enter usn : \")\n",
        "ug = re.search(\"^[1-4][a-zA-Z]{2}[0-9]{2}[a-zA-Z]{2}[0-9]{3}$\",usn)\n",
        "pg = re.search(\"^[1-4][a-zA-Z]{2}[0-9]{2}[a-zA-Z]{3}[0-9]{2}$\",usn)\n",
        "\n",
        "if ug:\n",
        "  print(\"Valid UG USN\")\n",
        "elif pg:\n",
        "  print(\"Valid  PG USN\")\n",
        "else:\n",
        "  print(\"Invalid USN\")"
      ],
      "metadata": {
        "colab": {
          "base_uri": "https://localhost:8080/"
        },
        "id": "8850V55gsnz0",
        "outputId": "ebc0d242-eb78-4b75-fb43-6a46f0272584"
      },
      "execution_count": null,
      "outputs": [
        {
          "output_type": "stream",
          "name": "stdout",
          "text": [
            "Enter usn : 2gi20csc10\n",
            "Valid  PG USN\n"
          ]
        }
      ]
    },
    {
      "cell_type": "markdown",
      "source": [
        "Program to match E-mail IDs"
      ],
      "metadata": {
        "id": "4e7vpugTy4F7"
      }
    },
    {
      "cell_type": "code",
      "source": [],
      "metadata": {
        "id": "zQOpdNiHzZIR"
      },
      "execution_count": null,
      "outputs": []
    },
    {
      "cell_type": "markdown",
      "source": [
        "# 21/12/2022\n",
        "\n",
        "---\n",
        "\n"
      ],
      "metadata": {
        "id": "XhdbuNyIzZxD"
      }
    },
    {
      "cell_type": "markdown",
      "source": [
        "## Exception handling"
      ],
      "metadata": {
        "id": "iybwqX_wznbH"
      }
    },
    {
      "cell_type": "code",
      "source": [
        "a = 100\n",
        "b = [2,5,0,10]\n",
        "def div(a,b):\n",
        "  print(a/b)\n",
        "\n",
        "\n",
        "for i in b:\n",
        "  try:\n",
        "    div(a,i)\n",
        "  except ZeroDivisionError:\n",
        "    print(\"Cannot Divide by Zero!\")"
      ],
      "metadata": {
        "colab": {
          "base_uri": "https://localhost:8080/"
        },
        "id": "olkrgF-ozvfB",
        "outputId": "2df0fd13-a4f7-4df3-db7a-1b80fcdcb349"
      },
      "execution_count": null,
      "outputs": [
        {
          "output_type": "stream",
          "name": "stdout",
          "text": [
            "50.0\n",
            "20.0\n",
            "Cannot Divide by Zero!\n",
            "10.0\n"
          ]
        }
      ]
    },
    {
      "cell_type": "code",
      "source": [
        "a = 100\n",
        "b = 2\n",
        "def div(a,b):\n",
        "  print(a/b)\n",
        "\n",
        "try:\n",
        "  print(a/b)\n",
        "except NameError:\n",
        "  print(\"Something went wrong\")\n",
        "else:\n",
        "  print(\"Nothing went wrong\")\n",
        "finally:\n",
        "  print(\"Execution completed\")"
      ],
      "metadata": {
        "colab": {
          "base_uri": "https://localhost:8080/"
        },
        "id": "QFxZQQwZ0h8D",
        "outputId": "9f7950c3-a4f6-43aa-864d-037a152bb8e0"
      },
      "execution_count": null,
      "outputs": [
        {
          "output_type": "stream",
          "name": "stdout",
          "text": [
            "50.0\n",
            "Nothing went wrong\n",
            "Execution completed\n"
          ]
        }
      ]
    },
    {
      "cell_type": "markdown",
      "source": [
        "Usage of try except and finally : The finally block is executed no matter if the exception is raised or not."
      ],
      "metadata": {
        "id": "21k7tGYv4Vl1"
      }
    },
    {
      "cell_type": "code",
      "source": [
        "try:\n",
        "    f = open(\"demofile.txt\", 'a')\n",
        "    try:\n",
        "        f.write(\" lorem ipsum\")\n",
        "        print(\"Successfully written\")\n",
        "    except:\n",
        "        print(\"Something went wrong while writing the file...\")\n",
        "    else:\n",
        "        f = open(\"demofile.txt\", 'r')\n",
        "        print(f.read())\n",
        "    finally:\n",
        "        f.close()\n",
        "except:\n",
        "    print(\"Something went wrong while opening the file...\")"
      ],
      "metadata": {
        "colab": {
          "base_uri": "https://localhost:8080/"
        },
        "id": "_Cr-IOO80_24",
        "outputId": "a73cb8bd-921b-45f9-8bbd-09331a6b610f"
      },
      "execution_count": null,
      "outputs": [
        {
          "output_type": "stream",
          "name": "stdout",
          "text": [
            "Something went wrong while opening the file...\n"
          ]
        }
      ]
    },
    {
      "cell_type": "markdown",
      "source": [
        "Raising exceptions :"
      ],
      "metadata": {
        "id": "m9wZ6gPd4oAX"
      }
    },
    {
      "cell_type": "code",
      "source": [
        "x = 'hello'\n",
        "\n",
        "try:\n",
        "  if not type(x) is int:\n",
        "    raise TypeError()\n",
        "except TypeError:\n",
        "  print(\"Only integers are allowed\")\n",
        "\n"
      ],
      "metadata": {
        "colab": {
          "base_uri": "https://localhost:8080/"
        },
        "id": "T_Z9k1kF1WhI",
        "outputId": "a19569be-4954-4f52-d3b5-73cd7945b9b3"
      },
      "execution_count": null,
      "outputs": [
        {
          "output_type": "stream",
          "name": "stdout",
          "text": [
            "Only integers are allowed\n"
          ]
        }
      ]
    },
    {
      "cell_type": "markdown",
      "source": [
        "# File Handling"
      ],
      "metadata": {
        "id": "hDvxmqlh5Yxv"
      }
    },
    {
      "cell_type": "markdown",
      "source": [
        "open method : used to open a method\n",
        "\n",
        "'r' - read mode (default) \n",
        "\n",
        "'w' - write mode (opens a file and overwrites the content)\n",
        "\n",
        "'a' - append mode (adds to existing content)\n",
        "\n",
        "'x' - create mode (returns if files already exists)\n",
        "\n",
        "'t' - text mode\n",
        "\n",
        "'b' - binary mode (to open other files ex images)\n",
        "\n",
        "syntax - f = open(\"filename\", 'mode')"
      ],
      "metadata": {
        "id": "Menain4Z5esv"
      }
    },
    {
      "cell_type": "code",
      "source": [
        "f = open('demofile.txt', 'a')"
      ],
      "metadata": {
        "id": "R75o6RKO6HaA"
      },
      "execution_count": null,
      "outputs": []
    },
    {
      "cell_type": "markdown",
      "source": [
        "once a file is open it should be closed after all the opertions are done."
      ],
      "metadata": {
        "id": "u5cTjkCW7kgO"
      }
    },
    {
      "cell_type": "markdown",
      "source": [
        "files can be removed by : "
      ],
      "metadata": {
        "id": "XPBw_bkC8y4v"
      }
    },
    {
      "cell_type": "code",
      "source": [
        "import os \n",
        "if os.path.exists(\"demofile.txt\"):\n",
        "  os.remove(\"demofile.txt\")\n",
        "else:\n",
        "  print(\"The file does not exist..\")"
      ],
      "metadata": {
        "id": "t7axlCuJ81Xx"
      },
      "execution_count": null,
      "outputs": []
    },
    {
      "cell_type": "markdown",
      "source": [
        "# Lambda Functions\n",
        "\n",
        "A lambda function is a small anonymous function, can have any number of arguments but can only have one expression."
      ],
      "metadata": {
        "id": "2VtOEbLg9N1I"
      }
    },
    {
      "cell_type": "markdown",
      "source": [
        "syntax ->  lambda arguments : expression "
      ],
      "metadata": {
        "id": "ZxjQyS-t91nW"
      }
    },
    {
      "cell_type": "code",
      "source": [
        "x = lambda a : a + 10\n",
        "print(x(5))\n"
      ],
      "metadata": {
        "colab": {
          "base_uri": "https://localhost:8080/"
        },
        "id": "dfTOMsqB99wV",
        "outputId": "f6e85c12-9a01-4ff8-8d69-6f55df875a44"
      },
      "execution_count": null,
      "outputs": [
        {
          "output_type": "stream",
          "name": "stdout",
          "text": [
            "15\n"
          ]
        }
      ]
    },
    {
      "cell_type": "markdown",
      "source": [
        "main goal is using in nested functions where there is single statement so that we can reduce the number of function calls"
      ],
      "metadata": {
        "id": "cEZw2y0T9pLZ"
      }
    },
    {
      "cell_type": "code",
      "source": [
        "def myfunc(n):\n",
        "  return lambda a : a - n\n",
        "\n",
        "myd = myfunc(2)\n",
        "\n",
        "print(myd(11))"
      ],
      "metadata": {
        "colab": {
          "base_uri": "https://localhost:8080/"
        },
        "id": "kFyiDnDs_oq5",
        "outputId": "e498fd8c-3f9b-4e25-9522-badf78c64261"
      },
      "execution_count": null,
      "outputs": [
        {
          "output_type": "stream",
          "name": "stdout",
          "text": [
            "9\n"
          ]
        }
      ]
    },
    {
      "cell_type": "code",
      "source": [
        "x = lambda a : a\n",
        "print(x(2))"
      ],
      "metadata": {
        "colab": {
          "base_uri": "https://localhost:8080/"
        },
        "id": "auIG2a_tAbRb",
        "outputId": "80690081-87e5-4a14-dd29-de880afa95af"
      },
      "execution_count": null,
      "outputs": [
        {
          "output_type": "stream",
          "name": "stdout",
          "text": [
            "2\n"
          ]
        }
      ]
    },
    {
      "cell_type": "markdown",
      "source": [
        "# Object Oriented Programming "
      ],
      "metadata": {
        "id": "ZoBLjxeXAurQ"
      }
    },
    {
      "cell_type": "code",
      "source": [
        "Death of diamond"
      ],
      "metadata": {
        "id": "6gh8DdWsGI86"
      },
      "execution_count": null,
      "outputs": []
    },
    {
      "cell_type": "code",
      "source": [
        "class a :\n",
        "  x = 20\n",
        "\n",
        "class b(a):\n",
        "  z = 30\n",
        "\n",
        "class c(a):\n",
        "  z = 40\n",
        "\n",
        "class d(c,b):\n",
        "  q = 10\n",
        "\n",
        "o = d()\n",
        "print(d.z)\n",
        "print(d.q)"
      ],
      "metadata": {
        "colab": {
          "base_uri": "https://localhost:8080/"
        },
        "id": "j8Op0CSPA0wJ",
        "outputId": "571e2d8b-1372-4cc9-976d-4aef67dda532"
      },
      "execution_count": null,
      "outputs": [
        {
          "output_type": "stream",
          "name": "stdout",
          "text": [
            "40\n",
            "10\n"
          ]
        }
      ]
    }
  ]
}
