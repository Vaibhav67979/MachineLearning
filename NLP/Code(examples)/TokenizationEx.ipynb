{
  "nbformat": 4,
  "nbformat_minor": 0,
  "metadata": {
    "colab": {
      "provenance": [],
      "authorship_tag": "ABX9TyPMyom3aoEyfKJ9dRXRyNih",
      "include_colab_link": true
    },
    "kernelspec": {
      "name": "python3",
      "display_name": "Python 3"
    },
    "language_info": {
      "name": "python"
    }
  },
  "cells": [
    {
      "cell_type": "markdown",
      "metadata": {
        "id": "view-in-github",
        "colab_type": "text"
      },
      "source": [
        "<a href=\"https://colab.research.google.com/github/Vaibhav67979/MachineLearning/blob/main/NLP/Code(examples)/TokenizationEx.ipynb\" target=\"_parent\"><img src=\"https://colab.research.google.com/assets/colab-badge.svg\" alt=\"Open In Colab\"/></a>"
      ]
    },
    {
      "cell_type": "markdown",
      "source": [
        "# Tokenization"
      ],
      "metadata": {
        "id": "WxjK27TpgoG1"
      }
    },
    {
      "cell_type": "code",
      "execution_count": null,
      "metadata": {
        "id": "GiRAkIBgb5xD"
      },
      "outputs": [],
      "source": [
        "# !pip install nltk\n",
        "import nltk\n",
        "nltk.download()"
      ]
    },
    {
      "cell_type": "code",
      "source": [
        "corpus = '''Hello, welcome to my youtube channel.\n",
        "Please do like, and subscribe! and don't forget to click the notifiction bell.'''\n",
        "corpus"
      ],
      "metadata": {
        "colab": {
          "base_uri": "https://localhost:8080/",
          "height": 52
        },
        "id": "Xv8B7DShcM8g",
        "outputId": "1b5c74b6-17d9-49e7-c0fd-5c754fcec34d"
      },
      "execution_count": 27,
      "outputs": [
        {
          "output_type": "execute_result",
          "data": {
            "text/plain": [
              "\"Hello, welcome to my youtube channel.\\nPlease do like, and subscribe! and don't forget to click the notifiction bell.\""
            ],
            "application/vnd.google.colaboratory.intrinsic+json": {
              "type": "string"
            }
          },
          "metadata": {},
          "execution_count": 27
        }
      ]
    },
    {
      "cell_type": "markdown",
      "source": [
        "## Tokenization\n",
        "Paragraph-->sentences(documents)"
      ],
      "metadata": {
        "id": "hfSklPxAgtkp"
      }
    },
    {
      "cell_type": "code",
      "source": [
        "from nltk.tokenize import sent_tokenize\n",
        "documents = sent_tokenize(corpus)\n",
        "documents"
      ],
      "metadata": {
        "colab": {
          "base_uri": "https://localhost:8080/"
        },
        "id": "GHjXIxyqcvSw",
        "outputId": "ab5fc554-496a-4f30-be2a-60536d6c1cd8"
      },
      "execution_count": 28,
      "outputs": [
        {
          "output_type": "execute_result",
          "data": {
            "text/plain": [
              "['Hello, welcome to my youtube channel.',\n",
              " 'Please do like, and subscribe!',\n",
              " \"and don't forget to click the notifiction bell.\"]"
            ]
          },
          "metadata": {},
          "execution_count": 28
        }
      ]
    },
    {
      "cell_type": "code",
      "source": [
        "for i in documents:\n",
        "  print(i)"
      ],
      "metadata": {
        "id": "WjSYHl8qdELF",
        "colab": {
          "base_uri": "https://localhost:8080/"
        },
        "outputId": "f4c0fd1a-939f-45e5-c939-ddc9f75126ac"
      },
      "execution_count": 29,
      "outputs": [
        {
          "output_type": "stream",
          "name": "stdout",
          "text": [
            "Hello, welcome to my youtube channel.\n",
            "Please do like, and subscribe!\n",
            "and don't forget to click the notifiction bell.\n"
          ]
        }
      ]
    },
    {
      "cell_type": "markdown",
      "source": [
        "## Tokenization\n",
        " paragraph-->words\n",
        "\n",
        " sentence-->words"
      ],
      "metadata": {
        "id": "DJZY9njoenXz"
      }
    },
    {
      "cell_type": "code",
      "source": [
        "from nltk.tokenize import word_tokenize\n",
        "words = word_tokenize(corpus)\n",
        "print(words)"
      ],
      "metadata": {
        "colab": {
          "base_uri": "https://localhost:8080/"
        },
        "id": "t_JaMFknelHx",
        "outputId": "51a49591-0af9-475d-8a66-951b18c82634"
      },
      "execution_count": 30,
      "outputs": [
        {
          "output_type": "stream",
          "name": "stdout",
          "text": [
            "['Hello', ',', 'welcome', 'to', 'my', 'youtube', 'channel', '.', 'Please', 'do', 'like', ',', 'and', 'subscribe', '!', 'and', 'do', \"n't\", 'forget', 'to', 'click', 'the', 'notifiction', 'bell', '.']\n"
          ]
        }
      ]
    },
    {
      "cell_type": "code",
      "source": [
        "for i in documents:\n",
        "  print(word_tokenize(i))"
      ],
      "metadata": {
        "colab": {
          "base_uri": "https://localhost:8080/"
        },
        "id": "zJTj8gLDe7Ei",
        "outputId": "7283573f-cce8-4ba5-c4ca-889b4deac829"
      },
      "execution_count": 31,
      "outputs": [
        {
          "output_type": "stream",
          "name": "stdout",
          "text": [
            "['Hello', ',', 'welcome', 'to', 'my', 'youtube', 'channel', '.']\n",
            "['Please', 'do', 'like', ',', 'and', 'subscribe', '!']\n",
            "['and', 'do', \"n't\", 'forget', 'to', 'click', 'the', 'notifiction', 'bell', '.']\n"
          ]
        }
      ]
    },
    {
      "cell_type": "code",
      "source": [
        "from nltk.tokenize import wordpunct_tokenize\n",
        "wordpunct_tokenize(corpus)"
      ],
      "metadata": {
        "colab": {
          "base_uri": "https://localhost:8080/"
        },
        "id": "JvoM9607fPzd",
        "outputId": "5a4e441d-47a0-4006-a6f4-4054312e4ec0"
      },
      "execution_count": 32,
      "outputs": [
        {
          "output_type": "execute_result",
          "data": {
            "text/plain": [
              "['Hello',\n",
              " ',',\n",
              " 'welcome',\n",
              " 'to',\n",
              " 'my',\n",
              " 'youtube',\n",
              " 'channel',\n",
              " '.',\n",
              " 'Please',\n",
              " 'do',\n",
              " 'like',\n",
              " ',',\n",
              " 'and',\n",
              " 'subscribe',\n",
              " '!',\n",
              " 'and',\n",
              " 'don',\n",
              " \"'\",\n",
              " 't',\n",
              " 'forget',\n",
              " 'to',\n",
              " 'click',\n",
              " 'the',\n",
              " 'notifiction',\n",
              " 'bell',\n",
              " '.']"
            ]
          },
          "metadata": {},
          "execution_count": 32
        }
      ]
    },
    {
      "cell_type": "code",
      "source": [
        "from nltk.tokenize import TreebankWordTokenizer\n",
        "tokenizer = TreebankWordTokenizer()\n",
        "tokenizer.tokenize(corpus)"
      ],
      "metadata": {
        "colab": {
          "base_uri": "https://localhost:8080/"
        },
        "id": "3bTJB0Opfq_F",
        "outputId": "d23c6adc-f428-4d48-c69a-e3f23e804d41"
      },
      "execution_count": 33,
      "outputs": [
        {
          "output_type": "execute_result",
          "data": {
            "text/plain": [
              "['Hello',\n",
              " ',',\n",
              " 'welcome',\n",
              " 'to',\n",
              " 'my',\n",
              " 'youtube',\n",
              " 'channel.',\n",
              " 'Please',\n",
              " 'do',\n",
              " 'like',\n",
              " ',',\n",
              " 'and',\n",
              " 'subscribe',\n",
              " '!',\n",
              " 'and',\n",
              " 'do',\n",
              " \"n't\",\n",
              " 'forget',\n",
              " 'to',\n",
              " 'click',\n",
              " 'the',\n",
              " 'notifiction',\n",
              " 'bell',\n",
              " '.']"
            ]
          },
          "metadata": {},
          "execution_count": 33
        }
      ]
    }
  ]
}