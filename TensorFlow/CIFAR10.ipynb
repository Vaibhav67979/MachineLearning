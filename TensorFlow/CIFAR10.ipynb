{
  "nbformat": 4,
  "nbformat_minor": 0,
  "metadata": {
    "colab": {
      "provenance": [],
      "authorship_tag": "ABX9TyPupJwOHrbdccYHDRs0E93B",
      "include_colab_link": true
    },
    "kernelspec": {
      "name": "python3",
      "display_name": "Python 3"
    },
    "language_info": {
      "name": "python"
    }
  },
  "cells": [
    {
      "cell_type": "markdown",
      "metadata": {
        "id": "view-in-github",
        "colab_type": "text"
      },
      "source": [
        "<a href=\"https://colab.research.google.com/github/Vaibhav67979/MachineLearning/blob/br/TensorFlow/CIFAR10.ipynb\" target=\"_parent\"><img src=\"https://colab.research.google.com/assets/colab-badge.svg\" alt=\"Open In Colab\"/></a>"
      ]
    },
    {
      "cell_type": "code",
      "execution_count": null,
      "metadata": {
        "colab": {
          "base_uri": "https://localhost:8080/"
        },
        "id": "CxppY9kt3Dws",
        "outputId": "930ba2ab-a5db-4be5-d4d7-4d6e7bc316dc"
      },
      "outputs": [
        {
          "output_type": "stream",
          "name": "stdout",
          "text": [
            "Colab only includes TensorFlow 2.x; %tensorflow_version has no effect.\n"
          ]
        }
      ],
      "source": [
        "%tensorflow_version 2.x \n",
        "import tensorflow as tf\n",
        "import numpy as np\n",
        "from tensorflow.keras import datasets, layers, models\n",
        "import matplotlib.pyplot as plt\n",
        "\n",
        "(train_images, train_labels), (test_images, test_labels) = datasets.cifar10.load_data()\n",
        "train_images, test_images = train_images / 255.0, test_images / 255.0\n",
        "class_names = ['airplane', 'automobile', 'bird', 'cat', 'deer',\n",
        "               'dog', 'frog', 'horse', 'ship', 'truck']\n",
        "\n",
        "model = models.Sequential()\n",
        "model.add(layers.Conv2D(32, (3, 3), activation='relu', input_shape=(32, 32, 3)))\n",
        "model.add(layers.MaxPooling2D((2, 2)))\n",
        "model.add(layers.Conv2D(64, (3, 3), activation='relu'))\n",
        "model.add(layers.MaxPooling2D((2, 2)))\n",
        "model.add(layers.Conv2D(64, (3, 3), activation='relu'))\n",
        "\n",
        "model.add(layers.Flatten())\n",
        "model.add(layers.Dense(64, activation='relu'))\n",
        "model.add(layers.Dense(10))"
      ]
    },
    {
      "cell_type": "code",
      "source": [
        "model.compile(optimizer='adam',\n",
        "              loss=tf.keras.losses.SparseCategoricalCrossentropy(from_logits=True),\n",
        "              metrics=['accuracy'])\n",
        "\n",
        "history = model.fit(train_images, train_labels, epochs=10, \n",
        "                    validation_data=(test_images, test_labels))"
      ],
      "metadata": {
        "colab": {
          "base_uri": "https://localhost:8080/"
        },
        "id": "VeKVg67w3czy",
        "outputId": "c2821c72-c029-4928-aba4-1d70e4f937a4"
      },
      "execution_count": null,
      "outputs": [
        {
          "output_type": "stream",
          "name": "stdout",
          "text": [
            "Epoch 1/10\n",
            "1563/1563 [==============================] - 82s 52ms/step - loss: 1.5269 - accuracy: 0.4437 - val_loss: 1.2311 - val_accuracy: 0.5542\n",
            "Epoch 2/10\n",
            "1563/1563 [==============================] - 79s 50ms/step - loss: 1.1560 - accuracy: 0.5927 - val_loss: 1.0888 - val_accuracy: 0.6135\n",
            "Epoch 3/10\n",
            "1563/1563 [==============================] - 78s 50ms/step - loss: 1.0013 - accuracy: 0.6469 - val_loss: 1.0224 - val_accuracy: 0.6409\n",
            "Epoch 4/10\n",
            "1563/1563 [==============================] - 79s 50ms/step - loss: 0.9051 - accuracy: 0.6821 - val_loss: 0.9169 - val_accuracy: 0.6835\n",
            "Epoch 5/10\n",
            "1563/1563 [==============================] - 79s 50ms/step - loss: 0.8405 - accuracy: 0.7066 - val_loss: 0.9039 - val_accuracy: 0.6850\n",
            "Epoch 6/10\n",
            "1563/1563 [==============================] - 79s 50ms/step - loss: 0.7815 - accuracy: 0.7267 - val_loss: 0.9543 - val_accuracy: 0.6759\n",
            "Epoch 7/10\n",
            "1563/1563 [==============================] - 79s 50ms/step - loss: 0.7344 - accuracy: 0.7426 - val_loss: 0.8942 - val_accuracy: 0.6954\n",
            "Epoch 8/10\n",
            "1563/1563 [==============================] - 81s 52ms/step - loss: 0.6918 - accuracy: 0.7595 - val_loss: 0.8445 - val_accuracy: 0.7131\n",
            "Epoch 9/10\n",
            "1563/1563 [==============================] - 79s 50ms/step - loss: 0.6562 - accuracy: 0.7696 - val_loss: 0.8606 - val_accuracy: 0.7105\n",
            "Epoch 10/10\n",
            "1563/1563 [==============================] - 79s 50ms/step - loss: 0.6243 - accuracy: 0.7800 - val_loss: 0.8782 - val_accuracy: 0.7018\n"
          ]
        }
      ]
    },
    {
      "cell_type": "code",
      "source": [
        "test_loss, test_acc = model.evaluate(test_images,  test_labels, verbose=2)\n",
        "print(test_acc)"
      ],
      "metadata": {
        "colab": {
          "base_uri": "https://localhost:8080/"
        },
        "id": "zVJfvGdm3kHz",
        "outputId": "b693f6ee-bcfb-4ba7-ff8c-9cd339654654"
      },
      "execution_count": null,
      "outputs": [
        {
          "output_type": "stream",
          "name": "stdout",
          "text": [
            "313/313 - 5s - loss: 0.8782 - accuracy: 0.7018 - 5s/epoch - 15ms/step\n",
            "0.7017999887466431\n"
          ]
        }
      ]
    },
    {
      "cell_type": "code",
      "source": [
        "predictions = model.predict(test_images)\n",
        "print(class_names[np.argmax(predictions[1])])\n",
        "plt.figure()\n",
        "plt.imshow(test_images[1])\n",
        "plt.grid(False)\n",
        "plt.show()"
      ],
      "metadata": {
        "colab": {
          "base_uri": "https://localhost:8080/",
          "height": 301
        },
        "id": "37r3Kwct3xrT",
        "outputId": "8c188cfd-e6a8-4454-97ad-ce8b65a08c0d"
      },
      "execution_count": null,
      "outputs": [
        {
          "output_type": "stream",
          "name": "stdout",
          "text": [
            "313/313 [==============================] - 5s 16ms/step\n",
            "ship\n"
          ]
        },
        {
          "output_type": "display_data",
          "data": {
            "text/plain": [
              "<Figure size 432x288 with 1 Axes>"
            ],
            "image/png": "[encoded data removed]"
          },
          "metadata": {
            "needs_background": "light"
          }
        }
      ]
    }
  ]
}